{
 "cells": [
  {
   "cell_type": "raw",
   "id": "7cecffb6-835b-40a2-bb9d-7dc9d5eb1d08",
   "metadata": {},
   "source": [
    "if\n",
    "ifelse\n",
    "if elif else\n",
    "for\n",
    "while\n",
    "continue\n",
    "break"
   ]
  },
  {
   "cell_type": "code",
   "execution_count": 3,
   "id": "6b9c6ba2-e652-41b1-8dc3-93990f077303",
   "metadata": {},
   "outputs": [
    {
     "name": "stdout",
     "output_type": "stream",
     "text": [
      "test\n",
      "test2\n"
     ]
    }
   ],
   "source": [
    "x=10\n",
    "if x>5:\n",
    "    print(\"test\")\n",
    "    print(\"test2\")"
   ]
  },
  {
   "cell_type": "code",
   "execution_count": 8,
   "id": "6c0e2ca2-c1c7-4ebe-ae5e-fadfcf04f0d1",
   "metadata": {},
   "outputs": [
    {
     "name": "stdout",
     "output_type": "stream",
     "text": [
      "test\n",
      "test2\n",
      "15\n"
     ]
    }
   ],
   "source": [
    "x=10\n",
    "if x>5:\n",
    "    print(\"test\")\n",
    "    print(\"test2\")\n",
    "    x=2+3\n",
    "    y=10\n",
    "    print(x+y)"
   ]
  },
  {
   "cell_type": "code",
   "execution_count": 9,
   "id": "6d7dcf94-e94b-4a37-aab1-90fd2b1455f5",
   "metadata": {},
   "outputs": [],
   "source": [
    "x=\"Data\"\n",
    "if not(len(x)%2==0 and x.startswith(\"D\")):\n",
    "    print(\"data\")"
   ]
  },
  {
   "cell_type": "code",
   "execution_count": 10,
   "id": "17a5564e-09d7-4201-b830-c83f04b4b368",
   "metadata": {},
   "outputs": [
    {
     "name": "stdout",
     "output_type": "stream",
     "text": [
      "data\n"
     ]
    }
   ],
   "source": [
    "if 1:\n",
    "    print(\"data\")"
   ]
  },
  {
   "cell_type": "code",
   "execution_count": 11,
   "id": "ec255702-cf9d-4a26-9ae5-49a632b4de79",
   "metadata": {},
   "outputs": [
    {
     "name": "stdout",
     "output_type": "stream",
     "text": [
      "data science\n"
     ]
    }
   ],
   "source": [
    "x=2\n",
    "if x>10:\n",
    "    print(\"data\")\n",
    "else:\n",
    "    print(\"data science\")"
   ]
  },
  {
   "cell_type": "raw",
   "id": "3bf6bbf2-af3b-4bd9-9284-2b7222c3c159",
   "metadata": {},
   "source": [
    "elif"
   ]
  },
  {
   "cell_type": "code",
   "execution_count": 13,
   "id": "573af71f-a69a-4147-b8d8-7e472cc4d1cd",
   "metadata": {},
   "outputs": [
    {
     "name": "stdin",
     "output_type": "stream",
     "text": [
      " 10\n"
     ]
    },
    {
     "data": {
      "text/plain": [
       "10.0"
      ]
     },
     "execution_count": 13,
     "metadata": {},
     "output_type": "execute_result"
    }
   ],
   "source": [
    "x=float(input())\n",
    "x"
   ]
  },
  {
   "cell_type": "code",
   "execution_count": 14,
   "id": "17f9a989-77d8-48c0-8741-219859c292c3",
   "metadata": {},
   "outputs": [
    {
     "name": "stdin",
     "output_type": "stream",
     "text": [
      " 20\n"
     ]
    },
    {
     "data": {
      "text/plain": [
       "20"
      ]
     },
     "execution_count": 14,
     "metadata": {},
     "output_type": "execute_result"
    }
   ],
   "source": [
    "x=int(input())\n",
    "x"
   ]
  },
  {
   "cell_type": "code",
   "execution_count": 15,
   "id": "e03a90ce-3b51-4fd2-a546-179a1dfe8841",
   "metadata": {},
   "outputs": [
    {
     "name": "stdin",
     "output_type": "stream",
     "text": [
      " 50\n"
     ]
    },
    {
     "name": "stdout",
     "output_type": "stream",
     "text": [
      "fail\n"
     ]
    }
   ],
   "source": [
    "x=float(input())\n",
    "if x>=80:\n",
    "    print(\"grade 1\")\n",
    "elif x>60 and x<80:\n",
    "    print(\"grade 2\")\n",
    "else:\n",
    "    print(\"fail\")"
   ]
  },
  {
   "cell_type": "code",
   "execution_count": 18,
   "id": "460242bc-c83f-4a57-9b2f-aee464ad04bd",
   "metadata": {},
   "outputs": [
    {
     "name": "stdin",
     "output_type": "stream",
     "text": [
      "Enter a number:  96\n"
     ]
    },
    {
     "name": "stdout",
     "output_type": "stream",
     "text": [
      "positive\n"
     ]
    }
   ],
   "source": [
    "num= int(input(\"Enter a number: \"))\n",
    "if num>0:\n",
    "    print(\"positive\")\n",
    "elif num < 0:\n",
    "    print(\"negative\")\n",
    "else:\n",
    "    print(\"Zero\")"
   ]
  },
  {
   "cell_type": "code",
   "execution_count": 20,
   "id": "6d8166eb-d1b6-4fb1-b94c-cac43fce5fe8",
   "metadata": {},
   "outputs": [
    {
     "name": "stdin",
     "output_type": "stream",
     "text": [
      "Enter a number:  5\n"
     ]
    },
    {
     "name": "stdout",
     "output_type": "stream",
     "text": [
      "odd number \n"
     ]
    }
   ],
   "source": [
    "num = int(input(\"Enter a number: \"))\n",
    "if num % 2 == 0:\n",
    "    print(\"even number\")\n",
    "else:\n",
    "    print(\"odd number \")"
   ]
  },
  {
   "cell_type": "code",
   "execution_count": 21,
   "id": "2a713399-14d3-49bd-bc60-3c845e2b0df2",
   "metadata": {},
   "outputs": [
    {
     "name": "stdin",
     "output_type": "stream",
     "text": [
      "Enter your marks:  75\n"
     ]
    },
    {
     "name": "stdout",
     "output_type": "stream",
     "text": [
      "Grade : B\n"
     ]
    }
   ],
   "source": [
    "marks = int(input(\"Enter your marks: \"))\n",
    "if marks >= 90:\n",
    "    print(\"Grade : A\")\n",
    "elif marks >= 75:\n",
    "    print(\"Grade : B\")\n",
    "elif marks >= 50:\n",
    "    print(\"Grade ; c\")\n",
    "else:\n",
    "    print(\"Grade : F\")"
   ]
  },
  {
   "cell_type": "code",
   "execution_count": 22,
   "id": "e1ce7064-4d01-49b2-b634-993cf5b0b3df",
   "metadata": {},
   "outputs": [
    {
     "name": "stdin",
     "output_type": "stream",
     "text": [
      "Enter a single letter:  ed\n"
     ]
    },
    {
     "name": "stdout",
     "output_type": "stream",
     "text": [
      "consonant\n"
     ]
    }
   ],
   "source": [
    "char = input(\"Enter a single letter: \").lower()\n",
    "if char in 'aeiou':\n",
    "    print(\"vowel\")\n",
    "else:\n",
    "    print(\"consonant\")"
   ]
  },
  {
   "cell_type": "code",
   "execution_count": 23,
   "id": "97023a74-4372-42d3-9419-05fdc935f6ec",
   "metadata": {},
   "outputs": [
    {
     "name": "stdin",
     "output_type": "stream",
     "text": [
      "enter a username:  science\n"
     ]
    },
    {
     "name": "stdout",
     "output_type": "stream",
     "text": [
      "valid username\n"
     ]
    }
   ],
   "source": [
    "username = input(\"enter a username: \")\n",
    "if len(username) < 5:\n",
    "    print(\"Too short\")\n",
    "elif len(username) > 15:\n",
    "    print(\"Too long\")\n",
    "else:\n",
    "    print(\"valid username\")"
   ]
  },
  {
   "cell_type": "code",
   "execution_count": 24,
   "id": "d3714ca6-8930-4b01-9a65-3233718045f8",
   "metadata": {},
   "outputs": [
    {
     "name": "stdin",
     "output_type": "stream",
     "text": [
      "enter a username:  data\n"
     ]
    },
    {
     "name": "stdout",
     "output_type": "stream",
     "text": [
      "Too short\n"
     ]
    }
   ],
   "source": [
    "username = input(\"enter a username: \")\n",
    "if len(username) < 5:\n",
    "    print(\"Too short\")\n",
    "elif len(username) > 15:\n",
    "    print(\"Too long\")\n",
    "else:\n",
    "    print(\"valid username\")"
   ]
  },
  {
   "cell_type": "code",
   "execution_count": 25,
   "id": "9d941595-39be-47e6-b3d7-d4eb5a18f563",
   "metadata": {},
   "outputs": [
    {
     "data": {
      "text/plain": [
       "['data', 'science']"
      ]
     },
     "execution_count": 25,
     "metadata": {},
     "output_type": "execute_result"
    }
   ],
   "source": [
    "\"data science\".split()"
   ]
  },
  {
   "cell_type": "code",
   "execution_count": 26,
   "id": "0f693ce5-56f7-4b18-a6d6-fd5f2509b524",
   "metadata": {},
   "outputs": [
    {
     "data": {
      "text/plain": [
       "['d', 't', ' science']"
      ]
     },
     "execution_count": 26,
     "metadata": {},
     "output_type": "execute_result"
    }
   ],
   "source": [
    "\"data science\".split(\"a\")"
   ]
  },
  {
   "cell_type": "code",
   "execution_count": 28,
   "id": "e8d4f0ba-2ada-4afb-84fe-9f595e1678ae",
   "metadata": {},
   "outputs": [
    {
     "name": "stdout",
     "output_type": "stream",
     "text": [
      "d\n",
      "t\n",
      " science\n"
     ]
    }
   ],
   "source": [
    "for i in \"data science\".split(\"a\"):\n",
    "    print(i)"
   ]
  },
  {
   "cell_type": "code",
   "execution_count": 30,
   "id": "c233fe4e-5b40-4319-968f-ad9fcfa644b7",
   "metadata": {},
   "outputs": [
    {
     "name": "stdout",
     "output_type": "stream",
     "text": [
      "d,a,t,a,"
     ]
    }
   ],
   "source": [
    "for i in \"data756\":\n",
    "    if i.isalpha():\n",
    "        print(i,end = ',')"
   ]
  },
  {
   "cell_type": "code",
   "execution_count": 33,
   "id": "9e4c650c-9350-44cf-9dc5-741cf995aba6",
   "metadata": {},
   "outputs": [
    {
     "data": {
      "text/plain": [
       "'11data'"
      ]
     },
     "execution_count": 33,
     "metadata": {},
     "output_type": "execute_result"
    }
   ],
   "source": [
    "\"1\"+\"1\"+\"data\""
   ]
  },
  {
   "cell_type": "code",
   "execution_count": 34,
   "id": "b6a905dd-1850-45b0-bd7a-d6f98217ed6f",
   "metadata": {},
   "outputs": [
    {
     "name": "stdout",
     "output_type": "stream",
     "text": [
      "1,3,5,7,9,"
     ]
    }
   ],
   "source": [
    "for i in range(1,10,2):\n",
    "    print(i,end=',')"
   ]
  },
  {
   "cell_type": "code",
   "execution_count": 35,
   "id": "fac8f4b6-da3a-41e0-a582-163ef0f69b49",
   "metadata": {},
   "outputs": [
    {
     "name": "stdout",
     "output_type": "stream",
     "text": [
      "10,7,4,1,"
     ]
    }
   ],
   "source": [
    "for i in range(10,0,-3):\n",
    "    print(i,end=',')"
   ]
  },
  {
   "cell_type": "code",
   "execution_count": 36,
   "id": "ba5b9070-0623-4630-aba5-e4bbd58ba868",
   "metadata": {},
   "outputs": [
    {
     "name": "stdout",
     "output_type": "stream",
     "text": [
      "*****\n",
      "****\n",
      "***\n",
      "**\n",
      "*\n"
     ]
    }
   ],
   "source": [
    "for i in range(1,6):\n",
    "    print(\"*\"*(6-i))"
   ]
  },
  {
   "cell_type": "code",
   "execution_count": 37,
   "id": "671e6654-aac3-44fd-b8ea-de1d26b60ecd",
   "metadata": {},
   "outputs": [
    {
     "name": "stdout",
     "output_type": "stream",
     "text": [
      "*****\n",
      "****\n",
      "***\n",
      "**\n",
      "*\n"
     ]
    }
   ],
   "source": [
    "for i in range(5,0,-1):\n",
    "    print(\"*\"*i)"
   ]
  },
  {
   "cell_type": "code",
   "execution_count": 1,
   "id": "b378d2f9-556a-48c1-87be-fbbb275b1b8a",
   "metadata": {},
   "outputs": [],
   "source": [
    "customer_review='''customers find the laptop's build quality good, with one\n",
    "noting its premium look a@$@%@%nd feel, and consider it good value\n",
    " for money. Moreover, the sound quality is acceptable, and\n",
    " they find it suitable fo@$@4r student use. However, the performance\n",
    " receives mixed feedback, with some finding it satisfying while others\n",
    " describe it as extremely bad. Addit@@@%2ionally, the fingerprint sensor is not available,\n",
    "and cus24$@$@%tomers report poor battery performance.''' "
   ]
  },
  {
   "cell_type": "code",
   "execution_count": 2,
   "id": "4da00098-9960-43df-92b8-7957eac36e0f",
   "metadata": {},
   "outputs": [
    {
     "data": {
      "text/plain": [
       "\"customers find the laptop's build quality good, with one\\nnoting its premium look a@$@%@%nd feel, and consider it good value\\n for money. Moreover, the sound quality is acceptable, and\\n they find it suitable fo@$@4r student use. However, the performance\\n receives mixed feedback, with some finding it satisfying while others\\n describe it as extremely bad. Addit@@@%2ionally, the fingerprint sensor is not available,\\nand cus24$@$@%tomers report poor battery performance.\""
      ]
     },
     "execution_count": 2,
     "metadata": {},
     "output_type": "execute_result"
    }
   ],
   "source": [
    "customer_review"
   ]
  },
  {
   "cell_type": "code",
   "execution_count": 3,
   "id": "16737091-51dc-44a1-a4d2-86783d87d952",
   "metadata": {},
   "outputs": [],
   "source": [
    "d={}\n",
    "for i in customer_review.split():\n",
    "    d[i]=len(i)\n"
   ]
  },
  {
   "cell_type": "code",
   "execution_count": 4,
   "id": "dea8ce07-9ced-4170-803e-80bd3fafcc48",
   "metadata": {},
   "outputs": [
    {
     "data": {
      "text/plain": [
       "{'customers': 9,\n",
       " 'find': 4,\n",
       " 'the': 3,\n",
       " \"laptop's\": 8,\n",
       " 'build': 5,\n",
       " 'quality': 7,\n",
       " 'good,': 5,\n",
       " 'with': 4,\n",
       " 'one': 3,\n",
       " 'noting': 6,\n",
       " 'its': 3,\n",
       " 'premium': 7,\n",
       " 'look': 4,\n",
       " 'a@$@%@%nd': 9,\n",
       " 'feel,': 5,\n",
       " 'and': 3,\n",
       " 'consider': 8,\n",
       " 'it': 2,\n",
       " 'good': 4,\n",
       " 'value': 5,\n",
       " 'for': 3,\n",
       " 'money.': 6,\n",
       " 'Moreover,': 9,\n",
       " 'sound': 5,\n",
       " 'is': 2,\n",
       " 'acceptable,': 11,\n",
       " 'they': 4,\n",
       " 'suitable': 8,\n",
       " 'fo@$@4r': 7,\n",
       " 'student': 7,\n",
       " 'use.': 4,\n",
       " 'However,': 8,\n",
       " 'performance': 11,\n",
       " 'receives': 8,\n",
       " 'mixed': 5,\n",
       " 'feedback,': 9,\n",
       " 'some': 4,\n",
       " 'finding': 7,\n",
       " 'satisfying': 10,\n",
       " 'while': 5,\n",
       " 'others': 6,\n",
       " 'describe': 8,\n",
       " 'as': 2,\n",
       " 'extremely': 9,\n",
       " 'bad.': 4,\n",
       " 'Addit@@@%2ionally,': 18,\n",
       " 'fingerprint': 11,\n",
       " 'sensor': 6,\n",
       " 'not': 3,\n",
       " 'available,': 10,\n",
       " 'cus24$@$@%tomers': 16,\n",
       " 'report': 6,\n",
       " 'poor': 4,\n",
       " 'battery': 7,\n",
       " 'performance.': 12}"
      ]
     },
     "execution_count": 4,
     "metadata": {},
     "output_type": "execute_result"
    }
   ],
   "source": [
    "d"
   ]
  },
  {
   "cell_type": "code",
   "execution_count": 7,
   "id": "585a7d14-ab85-4aef-9be6-bd84199416bd",
   "metadata": {},
   "outputs": [
    {
     "name": "stdout",
     "output_type": "stream",
     "text": [
      "222\n"
     ]
    }
   ],
   "source": [
    "customer_review\n",
    "counter=0\n",
    "for i in customer_review:\n",
    "  if i not in \"aeiouAEIOU\" and i.isalpha():\n",
    "    counter=counter+1\n",
    "print(counter)"
   ]
  },
  {
   "cell_type": "code",
   "execution_count": 8,
   "id": "290196f9-5a79-4958-b7bf-bdea86aa8a75",
   "metadata": {},
   "outputs": [
    {
     "data": {
      "text/plain": [
       "\"customers find the laptop's build quality good, with one\\nnoting its premium look a@$@%@%nd feel, and consider it good value\\n for money. Moreover, the sound quality is acceptable, and\\n they find it suitable fo@$@4r student use. However, the performance\\n receives mixed feedback, with some finding it satisfying while others\\n describe it as extremely bad. Addit@@@%2ionally, the fingerprint sensor is not available,\\nand cus24$@$@%tomers report poor battery performance.\""
      ]
     },
     "execution_count": 8,
     "metadata": {},
     "output_type": "execute_result"
    }
   ],
   "source": [
    "customer_review"
   ]
  },
  {
   "cell_type": "code",
   "execution_count": null,
   "id": "4bca595c-b1aa-4e9a-9c09-db629c499637",
   "metadata": {},
   "outputs": [],
   "source": []
  },
  {
   "cell_type": "code",
   "execution_count": null,
   "id": "be1240f1-eb58-487a-a39b-b94d84a4a724",
   "metadata": {},
   "outputs": [],
   "source": [
    "d\n",
    "da\n",
    "dat\n",
    "data"
   ]
  },
  {
   "cell_type": "code",
   "execution_count": 9,
   "id": "2c7674fa-dc6b-45b4-afe4-5f75670e54dc",
   "metadata": {},
   "outputs": [
    {
     "name": "stdout",
     "output_type": "stream",
     "text": [
      "d\n",
      "da\n",
      "dat\n",
      "data\n"
     ]
    }
   ],
   "source": [
    "x=\"data\"\n",
    "\n",
    "for i in range(1,len(x)+1):\n",
    "  print(x[0:i])"
   ]
  },
  {
   "cell_type": "code",
   "execution_count": 10,
   "id": "3308c759-7d0a-418c-be36-17ffaa1adb50",
   "metadata": {},
   "outputs": [
    {
     "name": "stdout",
     "output_type": "stream",
     "text": [
      "0 0 - 0 3 - 0 6 - 0 9 - 2 0 - 2 3 - 2 6 - 2 9 - 4 0 - 4 3 - 4 6 - 4 9 - 6 0 - 6 3 - 6 6 - 6 9 - 8 0 - 8 3 - 8 6 - 8 9 - "
     ]
    }
   ],
   "source": [
    "for i in range(0,10,2):\n",
    "  for j in range(0,10,3):\n",
    "    print(i,j,end=' - ')"
   ]
  },
  {
   "cell_type": "code",
   "execution_count": null,
   "id": "41283c21-db6f-40b5-b83d-0f32c8eaa8f7",
   "metadata": {},
   "outputs": [],
   "source": []
  }
 ],
 "metadata": {
  "kernelspec": {
   "display_name": "Python 3 (ipykernel)",
   "language": "python",
   "name": "python3"
  },
  "language_info": {
   "codemirror_mode": {
    "name": "ipython",
    "version": 3
   },
   "file_extension": ".py",
   "mimetype": "text/x-python",
   "name": "python",
   "nbconvert_exporter": "python",
   "pygments_lexer": "ipython3",
   "version": "3.13.5"
  }
 },
 "nbformat": 4,
 "nbformat_minor": 5
}
