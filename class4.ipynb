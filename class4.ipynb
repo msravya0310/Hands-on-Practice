{
 "cells": [
  {
   "cell_type": "code",
   "execution_count": 1,
   "id": "89b7ae8f-41b6-4fc6-acab-eeb52df7172a",
   "metadata": {},
   "outputs": [
    {
     "data": {
      "text/plain": [
       "{1, 2, 3, 4, 'a'}"
      ]
     },
     "execution_count": 1,
     "metadata": {},
     "output_type": "execute_result"
    }
   ],
   "source": [
    "x={1,2,3,4,1,1,1,\"a\",\"a\"}\n",
    "x"
   ]
  },
  {
   "cell_type": "code",
   "execution_count": 2,
   "id": "bf98555c-1ef5-49f3-b118-7908527f7b7b",
   "metadata": {},
   "outputs": [
    {
     "data": {
      "text/plain": [
       "{1, 111, 2222, 3, 4, 'a'}"
      ]
     },
     "execution_count": 2,
     "metadata": {},
     "output_type": "execute_result"
    }
   ],
   "source": [
    "x={111,2222,3,4,1,1,1,\"a\",\"a\"}\n",
    "x"
   ]
  },
  {
   "cell_type": "code",
   "execution_count": 3,
   "id": "072040f8-08a6-4cd3-9986-9ca46250fd94",
   "metadata": {},
   "outputs": [
    {
     "ename": "TypeError",
     "evalue": "'set' object is not subscriptable",
     "output_type": "error",
     "traceback": [
      "\u001b[31m---------------------------------------------------------------------------\u001b[39m",
      "\u001b[31mTypeError\u001b[39m                                 Traceback (most recent call last)",
      "\u001b[36mCell\u001b[39m\u001b[36m \u001b[39m\u001b[32mIn[3]\u001b[39m\u001b[32m, line 2\u001b[39m\n\u001b[32m      1\u001b[39m x={\u001b[32m111\u001b[39m,\u001b[32m2222\u001b[39m,\u001b[32m3\u001b[39m,\u001b[32m4\u001b[39m,\u001b[32m1\u001b[39m,\u001b[32m1\u001b[39m,\u001b[32m1\u001b[39m,\u001b[33m\"\u001b[39m\u001b[33ma\u001b[39m\u001b[33m\"\u001b[39m,\u001b[33m\"\u001b[39m\u001b[33ma\u001b[39m\u001b[33m\"\u001b[39m}\n\u001b[32m----> \u001b[39m\u001b[32m2\u001b[39m \u001b[43mx\u001b[49m\u001b[43m[\u001b[49m\u001b[32;43m0\u001b[39;49m\u001b[43m]\u001b[49m\n",
      "\u001b[31mTypeError\u001b[39m: 'set' object is not subscriptable"
     ]
    }
   ],
   "source": [
    "x={111,2222,3,4,1,1,1,\"a\",\"a\"}\n",
    "x[0]"
   ]
  },
  {
   "cell_type": "code",
   "execution_count": null,
   "id": "4336c08d-c20e-4a34-95c0-7d9611aa25b0",
   "metadata": {},
   "outputs": [],
   "source": [
    "x={1,2,3,4}\n",
    "y={2,6,4,5}"
   ]
  },
  {
   "cell_type": "code",
   "execution_count": null,
   "id": "df6cd8dc-20b3-43bf-99e0-a6ce5b3d5983",
   "metadata": {},
   "outputs": [],
   "source": [
    "x.union(y)"
   ]
  },
  {
   "cell_type": "code",
   "execution_count": null,
   "id": "4db4d1f8-8114-4523-a408-b58f1a4504ba",
   "metadata": {},
   "outputs": [],
   "source": [
    "x.intersection(y)"
   ]
  },
  {
   "cell_type": "code",
   "execution_count": null,
   "id": "e75f9961-67d3-43e0-abda-a5bcf363c5d8",
   "metadata": {},
   "outputs": [],
   "source": [
    "x,y"
   ]
  },
  {
   "cell_type": "code",
   "execution_count": null,
   "id": "51f5ed9f-a9f1-48c4-8bea-7199e2ab1503",
   "metadata": {},
   "outputs": [],
   "source": [
    "x.difference(y)"
   ]
  },
  {
   "cell_type": "code",
   "execution_count": null,
   "id": "c06810fa-fc3c-407d-9730-281697f8c1a2",
   "metadata": {},
   "outputs": [],
   "source": [
    "y.difference(x)"
   ]
  },
  {
   "cell_type": "code",
   "execution_count": null,
   "id": "da6eea29-befb-48a2-a13e-276a92fb053a",
   "metadata": {},
   "outputs": [],
   "source": [
    "x"
   ]
  },
  {
   "cell_type": "code",
   "execution_count": null,
   "id": "ccc1d882-8d92-4220-8b3c-d8b328563b3d",
   "metadata": {},
   "outputs": [],
   "source": [
    "y"
   ]
  },
  {
   "cell_type": "code",
   "execution_count": null,
   "id": "7d3e0adb-6a39-4895-ade5-f474bdac5955",
   "metadata": {},
   "outputs": [],
   "source": [
    "x.difference_update(y)"
   ]
  },
  {
   "cell_type": "code",
   "execution_count": null,
   "id": "ae4629eb-6543-471c-a49d-24766b9f5924",
   "metadata": {},
   "outputs": [],
   "source": [
    "x,y"
   ]
  },
  {
   "cell_type": "code",
   "execution_count": null,
   "id": "5c29e22f-f909-4611-afed-cfb272e94ad2",
   "metadata": {},
   "outputs": [],
   "source": [
    "y.difference_update(x)"
   ]
  },
  {
   "cell_type": "code",
   "execution_count": null,
   "id": "7d4cbf14-4fe4-4f01-9d94-cfe788ddcd18",
   "metadata": {},
   "outputs": [],
   "source": [
    "x,y"
   ]
  },
  {
   "cell_type": "code",
   "execution_count": null,
   "id": "5b97f3b9-bdb9-403b-a4db-a5d74ef33047",
   "metadata": {},
   "outputs": [],
   "source": [
    "x={1,2,3,4,5}\n",
    "y={3,4,5}\n",
    "x.symmetric_difference(y)"
   ]
  },
  {
   "cell_type": "code",
   "execution_count": null,
   "id": "0e45f098-95c2-47a9-b1f4-79c97fa0f06f",
   "metadata": {},
   "outputs": [],
   "source": [
    "x={1,2,3,4,5}\n",
    "y={3,4,5}\n",
    "y.issubset(x)"
   ]
  },
  {
   "cell_type": "code",
   "execution_count": null,
   "id": "8fe3b567-06d3-4674-a368-521ea52db18b",
   "metadata": {},
   "outputs": [],
   "source": [
    "x.issuperset(y)"
   ]
  },
  {
   "cell_type": "code",
   "execution_count": null,
   "id": "559e6eff-9443-4eb7-9959-52d29c47c740",
   "metadata": {},
   "outputs": [],
   "source": [
    "class_a = {\"Aarav\", \"Vivaan\", \"Aditya\", \"Rohan\", \"Yash\", \"Siddharth\", \"Manav\", \"Rahul\"}\n",
    "class_b = {\"Riya\", \"Sneha\", \"Aditya\", \"Rahul\", \"Ishita\", \"Manav\", \"Kavya\", \"Yash\"}"
   ]
  },
  {
   "cell_type": "code",
   "execution_count": null,
   "id": "4f9c3c54-be98-43ce-9e8a-674eb2665f35",
   "metadata": {},
   "outputs": [],
   "source": [
    "class_a"
   ]
  },
  {
   "cell_type": "code",
   "execution_count": null,
   "id": "3fe41272-4ee1-4f68-9faa-d918e55462de",
   "metadata": {},
   "outputs": [],
   "source": [
    "class_b"
   ]
  },
  {
   "cell_type": "code",
   "execution_count": null,
   "id": "237f4cd9-498a-4ef9-83e7-7ea8c8e6931b",
   "metadata": {},
   "outputs": [],
   "source": [
    "len(class_a.intersection(class_b)),len(class_b.intersection(class_a)),len(class_a.difference(class_b))"
   ]
  },
  {
   "cell_type": "code",
   "execution_count": null,
   "id": "2dc03502-70eb-484a-a392-687dc852bb05",
   "metadata": {},
   "outputs": [],
   "source": [
    "len(class_a.symmetric_difference(class_b))"
   ]
  },
  {
   "cell_type": "code",
   "execution_count": null,
   "id": "083b6166-927e-422b-b2f1-ff617292a959",
   "metadata": {},
   "outputs": [],
   "source": [
    "True+1"
   ]
  },
  {
   "cell_type": "code",
   "execution_count": null,
   "id": "a4b60aa4-3c04-4d02-8208-ccc51676f19a",
   "metadata": {},
   "outputs": [],
   "source": [
    "False+1"
   ]
  },
  {
   "cell_type": "code",
   "execution_count": null,
   "id": "db91aa2d-a7c6-4901-8dfd-78eee5eb6e9f",
   "metadata": {},
   "outputs": [],
   "source": [
    "x=10"
   ]
  },
  {
   "cell_type": "code",
   "execution_count": null,
   "id": "7dce0c5f-dae6-4074-a3cc-e15ebac3ebb5",
   "metadata": {},
   "outputs": [],
   "source": [
    "### arithmetic operators"
   ]
  },
  {
   "cell_type": "code",
   "execution_count": null,
   "id": "a62eca98-501c-4c42-a642-758494e9e91f",
   "metadata": {},
   "outputs": [],
   "source": [
    "a=40\n",
    "b=20\n",
    "print(a+b)\n",
    "print(a-b)\n",
    "print(a*b)\n",
    "print(a/b)\n",
    "print(a%b)\n",
    "print(a//b)\n",
    "print(a**2)"
   ]
  },
  {
   "cell_type": "code",
   "execution_count": null,
   "id": "26d3a3d2-49df-43f5-b91b-4df367fae5af",
   "metadata": {},
   "outputs": [],
   "source": [
    "a=14\n",
    "b=8\n",
    "a//b"
   ]
  },
  {
   "cell_type": "code",
   "execution_count": null,
   "id": "450b66cd-7818-41c3-b630-7ec3653b696d",
   "metadata": {},
   "outputs": [],
   "source": [
    "x=10\n",
    "x+=10\n",
    "x"
   ]
  },
  {
   "cell_type": "code",
   "execution_count": null,
   "id": "47e9f385-a4f4-4f2b-a422-d281cb49a118",
   "metadata": {},
   "outputs": [],
   "source": [
    "x=20\n",
    "x=-20\n",
    "x+=20\n",
    "x/2"
   ]
  },
  {
   "cell_type": "code",
   "execution_count": null,
   "id": "f3d31a8f-f561-48a1-8f1a-21753e2855f7",
   "metadata": {},
   "outputs": [],
   "source": [
    "x=40\n",
    "x=-40\n",
    "x+=40\n",
    "x"
   ]
  },
  {
   "cell_type": "code",
   "execution_count": null,
   "id": "a596debb-47a8-4de0-bc0c-f440db5ae7f4",
   "metadata": {},
   "outputs": [],
   "source": [
    "x=99\n",
    "x+=30\n",
    "x//2\n",
    "print(x)\n",
    "x/2"
   ]
  },
  {
   "cell_type": "code",
   "execution_count": null,
   "id": "77f6fb8f-c43b-4561-8bb2-5be486cf20a5",
   "metadata": {},
   "outputs": [],
   "source": [
    "x=10\n",
    "y=20\n",
    "print(x<=y)\n",
    "print(x<y)\n",
    "print(x>=y)\n",
    "print(x>y)\n",
    "print(x==y)\n",
    "print(x!=y)"
   ]
  },
  {
   "cell_type": "code",
   "execution_count": null,
   "id": "e339bb69-6fba-43e6-a2c4-16347b0e3ccb",
   "metadata": {},
   "outputs": [],
   "source": [
    "## logical operators"
   ]
  },
  {
   "cell_type": "code",
   "execution_count": null,
   "id": "8fce0fbf-bd43-4969-8890-b27188da269b",
   "metadata": {},
   "outputs": [],
   "source": [
    "and,or,not"
   ]
  },
  {
   "cell_type": "code",
   "execution_count": null,
   "id": "2885b8d2-8d51-4fdd-a65c-c5e312a714a9",
   "metadata": {},
   "outputs": [],
   "source": [
    "x=30\n",
    "y=20\n",
    "x>20 and y>20"
   ]
  },
  {
   "cell_type": "code",
   "execution_count": null,
   "id": "2475a549-28d2-4679-857a-f4c397ead9b4",
   "metadata": {},
   "outputs": [],
   "source": [
    "print(True and True) \n",
    "print(True and False) \n",
    "print( False and True) \n",
    "print(False and False) \n",
    "\n",
    "\n",
    "print(True or True) \n",
    "print(True or False) \n",
    "print( False or True) \n",
    "print(False or False) \n",
    "\n",
    "print(not(True or True))\n",
    "print(not(True or False)) \n",
    "print(not( False or True))\n",
    "print(not(False or False)) \n",
    "\n",
    "\n"
   ]
  },
  {
   "cell_type": "code",
   "execution_count": null,
   "id": "0ded5243-4cfd-4c93-83a6-cc0f3f6c97cf",
   "metadata": {},
   "outputs": [],
   "source": [
    "is, isnot, in, not in  "
   ]
  },
  {
   "cell_type": "code",
   "execution_count": null,
   "id": "6ef0fc7a-710d-453c-b9ca-c655fdcc5bd1",
   "metadata": {},
   "outputs": [],
   "source": [
    "a=[1,2,4]\n",
    "b=a\n",
    "c=[1,2,4]\n",
    "print(a is not c)"
   ]
  },
  {
   "cell_type": "code",
   "execution_count": 4,
   "id": "d13f072e-e236-4e75-9f54-9d9c3822f450",
   "metadata": {},
   "outputs": [
    {
     "data": {
      "text/plain": [
       "True"
      ]
     },
     "execution_count": 4,
     "metadata": {},
     "output_type": "execute_result"
    }
   ],
   "source": [
    "1 in[1,2,3,4]"
   ]
  },
  {
   "cell_type": "code",
   "execution_count": 5,
   "id": "b5bc9cd4-88f1-4174-ae5b-73e61e2f075c",
   "metadata": {},
   "outputs": [
    {
     "data": {
      "text/plain": [
       "True"
      ]
     },
     "execution_count": 5,
     "metadata": {},
     "output_type": "execute_result"
    }
   ],
   "source": [
    "1 in (1,2,3,4)"
   ]
  },
  {
   "cell_type": "code",
   "execution_count": 6,
   "id": "b905fd66-f41d-4123-98e8-af4c9221c351",
   "metadata": {},
   "outputs": [
    {
     "data": {
      "text/plain": [
       "True"
      ]
     },
     "execution_count": 6,
     "metadata": {},
     "output_type": "execute_result"
    }
   ],
   "source": [
    "\"1\" in \"data1\""
   ]
  },
  {
   "cell_type": "code",
   "execution_count": 7,
   "id": "bf5dc6aa-9f9a-4f55-85b3-e58df2bc4831",
   "metadata": {},
   "outputs": [
    {
     "data": {
      "text/plain": [
       "True"
      ]
     },
     "execution_count": 7,
     "metadata": {},
     "output_type": "execute_result"
    }
   ],
   "source": [
    "1 in {1,2,3}"
   ]
  },
  {
   "cell_type": "code",
   "execution_count": 8,
   "id": "a4b160c2-fe62-4a60-99b9-98f1013572b3",
   "metadata": {},
   "outputs": [
    {
     "data": {
      "text/plain": [
       "True"
      ]
     },
     "execution_count": 8,
     "metadata": {},
     "output_type": "execute_result"
    }
   ],
   "source": [
    "1 in{1:20}"
   ]
  },
  {
   "cell_type": "code",
   "execution_count": 9,
   "id": "b0b8036d-20e5-43b8-8b9e-80d9b888d3d3",
   "metadata": {},
   "outputs": [
    {
     "data": {
      "text/plain": [
       "'0b11111'"
      ]
     },
     "execution_count": 9,
     "metadata": {},
     "output_type": "execute_result"
    }
   ],
   "source": [
    "bin(31)"
   ]
  },
  {
   "cell_type": "code",
   "execution_count": 10,
   "id": "1813abc8-8d14-4567-9715-96113c53d636",
   "metadata": {},
   "outputs": [
    {
     "data": {
      "text/plain": [
       "'0b11111010000'"
      ]
     },
     "execution_count": 10,
     "metadata": {},
     "output_type": "execute_result"
    }
   ],
   "source": [
    "bin(2000)"
   ]
  },
  {
   "cell_type": "code",
   "execution_count": null,
   "id": "0eca7c74-ecfb-48e5-a1e2-68a362163ff9",
   "metadata": {},
   "outputs": [],
   "source": [
    "& |"
   ]
  },
  {
   "cell_type": "code",
   "execution_count": 13,
   "id": "a98d24c2-76e8-4396-85dd-6e774db4eebc",
   "metadata": {},
   "outputs": [
    {
     "data": {
      "text/plain": [
       "-62"
      ]
     },
     "execution_count": 13,
     "metadata": {},
     "output_type": "execute_result"
    }
   ],
   "source": [
    "~(32 | 29)"
   ]
  },
  {
   "cell_type": "code",
   "execution_count": 14,
   "id": "856a9484-cac0-4eed-9677-4796b72b7944",
   "metadata": {},
   "outputs": [
    {
     "data": {
      "text/plain": [
       "('0b11111', '0b11100')"
      ]
     },
     "execution_count": 14,
     "metadata": {},
     "output_type": "execute_result"
    }
   ],
   "source": [
    "bin(31),bin(28)"
   ]
  },
  {
   "cell_type": "code",
   "execution_count": null,
   "id": "709c0976-64d7-4e39-b122-77ccdc7350d3",
   "metadata": {},
   "outputs": [],
   "source": [
    "### bitwise not\n",
    "~x  =  -(x + 1)"
   ]
  },
  {
   "cell_type": "code",
   "execution_count": 18,
   "id": "849572ee-79ae-40a5-b434-99adac861948",
   "metadata": {},
   "outputs": [
    {
     "data": {
      "text/plain": [
       "-35"
      ]
     },
     "execution_count": 18,
     "metadata": {},
     "output_type": "execute_result"
    }
   ],
   "source": [
    "~34"
   ]
  },
  {
   "cell_type": "code",
   "execution_count": null,
   "id": "4603fad7-b02c-4086-a89d-0d1fe1b039e5",
   "metadata": {},
   "outputs": [],
   "source": []
  }
 ],
 "metadata": {
  "kernelspec": {
   "display_name": "Python 3 (ipykernel)",
   "language": "python",
   "name": "python3"
  },
  "language_info": {
   "codemirror_mode": {
    "name": "ipython",
    "version": 3
   },
   "file_extension": ".py",
   "mimetype": "text/x-python",
   "name": "python",
   "nbconvert_exporter": "python",
   "pygments_lexer": "ipython3",
   "version": "3.13.5"
  }
 },
 "nbformat": 4,
 "nbformat_minor": 5
}
