{
 "cells": [
  {
   "cell_type": "code",
   "execution_count": 1,
   "id": "3916cf96-9245-48a5-a102-63a0a908f0a3",
   "metadata": {},
   "outputs": [
    {
     "data": {
      "text/plain": [
       "array([[6, 3, 6],\n",
       "       [4, 4, 2],\n",
       "       [9, 4, 1]], dtype=int32)"
      ]
     },
     "execution_count": 1,
     "metadata": {},
     "output_type": "execute_result"
    }
   ],
   "source": [
    "import numpy as np\n",
    "data = np.random.randint(0,10,(3,3))\n",
    "data"
   ]
  },
  {
   "cell_type": "code",
   "execution_count": 2,
   "id": "4bb93955-eb51-4c7e-a885-02955976ef26",
   "metadata": {},
   "outputs": [],
   "source": [
    "### array creations functions"
   ]
  },
  {
   "cell_type": "code",
   "execution_count": 3,
   "id": "61f16b1a-1075-4987-8f23-81715b7d5e98",
   "metadata": {
    "scrolled": true
   },
   "outputs": [
    {
     "data": {
      "text/plain": [
       "array([1, 2, 3])"
      ]
     },
     "execution_count": 3,
     "metadata": {},
     "output_type": "execute_result"
    }
   ],
   "source": [
    "np.array([1,2,3])"
   ]
  },
  {
   "cell_type": "code",
   "execution_count": 4,
   "id": "d2f7fd33-f33b-465d-ac6f-56fa0d9ef443",
   "metadata": {},
   "outputs": [
    {
     "data": {
      "text/plain": [
       "array([[0., 0., 0.],\n",
       "       [0., 0., 0.],\n",
       "       [0., 0., 0.]])"
      ]
     },
     "execution_count": 4,
     "metadata": {},
     "output_type": "execute_result"
    }
   ],
   "source": [
    "np.zeros((3,3))"
   ]
  },
  {
   "cell_type": "code",
   "execution_count": 5,
   "id": "8f39acb1-0cce-45b4-a339-9a6d60f6ae9e",
   "metadata": {},
   "outputs": [
    {
     "data": {
      "text/plain": [
       "array([[1., 1., 1.],\n",
       "       [1., 1., 1.],\n",
       "       [1., 1., 1.]])"
      ]
     },
     "execution_count": 5,
     "metadata": {},
     "output_type": "execute_result"
    }
   ],
   "source": [
    "np.ones((3,3))"
   ]
  },
  {
   "cell_type": "code",
   "execution_count": 6,
   "id": "822294de-1e29-42a5-8307-2a99cf15e014",
   "metadata": {},
   "outputs": [
    {
     "data": {
      "text/plain": [
       "array([1., 1., 1.])"
      ]
     },
     "execution_count": 6,
     "metadata": {},
     "output_type": "execute_result"
    }
   ],
   "source": [
    "np.ones(3)"
   ]
  },
  {
   "cell_type": "code",
   "execution_count": 7,
   "id": "57cd3cb3-dbcb-4126-ad66-83440477f8b2",
   "metadata": {},
   "outputs": [
    {
     "data": {
      "text/plain": [
       "array([[1., 0., 0.],\n",
       "       [0., 1., 0.],\n",
       "       [0., 0., 1.]])"
      ]
     },
     "execution_count": 7,
     "metadata": {},
     "output_type": "execute_result"
    }
   ],
   "source": [
    "np.eye(3)"
   ]
  },
  {
   "cell_type": "code",
   "execution_count": 8,
   "id": "be162e4e-7c5c-4d6d-979c-3a0b343e1bd0",
   "metadata": {},
   "outputs": [
    {
     "data": {
      "text/plain": [
       "array([0, 1, 2, 3, 4, 5, 6, 7, 8, 9])"
      ]
     },
     "execution_count": 8,
     "metadata": {},
     "output_type": "execute_result"
    }
   ],
   "source": [
    "np.arange(0,10)"
   ]
  },
  {
   "cell_type": "code",
   "execution_count": 9,
   "id": "22af4235-430e-4655-bb90-e3d1eddd1271",
   "metadata": {},
   "outputs": [
    {
     "data": {
      "text/plain": [
       "array([ 0. ,  2.5,  5. ,  7.5, 10. ])"
      ]
     },
     "execution_count": 9,
     "metadata": {},
     "output_type": "execute_result"
    }
   ],
   "source": [
    "np.linspace(0,10,5)"
   ]
  },
  {
   "cell_type": "code",
   "execution_count": 10,
   "id": "9b0c34f4-4fd4-4261-8c91-c99f9ffd4df0",
   "metadata": {},
   "outputs": [],
   "source": [
    "### Mathematical Functions"
   ]
  },
  {
   "cell_type": "code",
   "execution_count": 11,
   "id": "50532ea8-8a01-4474-9d2f-6cb60cfeff50",
   "metadata": {},
   "outputs": [
    {
     "data": {
      "text/plain": [
       "array([62, 60, 94, 55,  5, 61, 44, 97, 41, 50], dtype=int32)"
      ]
     },
     "execution_count": 11,
     "metadata": {},
     "output_type": "execute_result"
    }
   ],
   "source": [
    "data = np.random.randint(0,100,10)\n",
    "data"
   ]
  },
  {
   "cell_type": "code",
   "execution_count": 12,
   "id": "12f85b1f-6b91-433d-8936-07066ddd1c4f",
   "metadata": {},
   "outputs": [
    {
     "name": "stdout",
     "output_type": "stream",
     "text": [
      "[-0.7391807  -0.30481062 -0.24525199 -0.99975517 -0.95892427 -0.96611777\n",
      "  0.01770193  0.37960774 -0.15862267 -0.26237485]\n",
      "[ 0.67350716 -0.95241298  0.96945937  0.02212676  0.28366219 -0.25810164\n",
      "  0.99984331 -0.92514754 -0.98733928  0.96496603]\n",
      "[-1.09750978e+00  3.20040389e-01 -2.52978097e-01 -4.51830879e+01\n",
      " -3.38051501e+00  3.74316794e+00  1.77046993e-02 -4.10321299e-01\n",
      "  1.60656699e-01 -2.71900612e-01]\n"
     ]
    }
   ],
   "source": [
    "print(np.sin(data))\n",
    "print(np.cos(data))\n",
    "print(np.tan(data))"
   ]
  },
  {
   "cell_type": "code",
   "execution_count": 13,
   "id": "759b0f88-67ee-4c59-acc1-3a9e4208fa63",
   "metadata": {},
   "outputs": [
    {
     "name": "stderr",
     "output_type": "stream",
     "text": [
      "C:\\Users\\admin\\AppData\\Local\\Temp\\ipykernel_7632\\4017286375.py:1: RuntimeWarning: invalid value encountered in arccos\n",
      "  np.arccos(data)\n"
     ]
    },
    {
     "data": {
      "text/plain": [
       "array([nan, nan, nan, nan, nan, nan, nan, nan, nan, nan])"
      ]
     },
     "execution_count": 13,
     "metadata": {},
     "output_type": "execute_result"
    }
   ],
   "source": [
    "np.arccos(data)"
   ]
  },
  {
   "cell_type": "code",
   "execution_count": 14,
   "id": "8b56f749-7a68-4ba7-9093-2393d4122799",
   "metadata": {},
   "outputs": [
    {
     "data": {
      "text/plain": [
       "array([1.55466869, 1.5541312 , 1.56015843, 1.55261651, 1.37340077,\n",
       "       1.55440435, 1.54807297, 1.56048741, 1.54641092, 1.55079899])"
      ]
     },
     "execution_count": 14,
     "metadata": {},
     "output_type": "execute_result"
    }
   ],
   "source": [
    "np.arctan(data)"
   ]
  },
  {
   "cell_type": "code",
   "execution_count": 15,
   "id": "baf4b192-64c8-406c-a16c-85d64f4e8784",
   "metadata": {},
   "outputs": [
    {
     "data": {
      "text/plain": [
       "array([1.57079633, 0.52359878])"
      ]
     },
     "execution_count": 15,
     "metadata": {},
     "output_type": "execute_result"
    }
   ],
   "source": [
    "np.arcsin(np.array([1,0.5]))"
   ]
  },
  {
   "cell_type": "code",
   "execution_count": 16,
   "id": "4362b610-15bf-4210-a8df-e3da921657fe",
   "metadata": {},
   "outputs": [
    {
     "data": {
      "text/plain": [
       "array([62, 60, 94, 55,  5, 61, 44, 97, 41, 50], dtype=int32)"
      ]
     },
     "execution_count": 16,
     "metadata": {},
     "output_type": "execute_result"
    }
   ],
   "source": [
    "data"
   ]
  },
  {
   "cell_type": "code",
   "execution_count": 17,
   "id": "9f85a32e-985e-493c-9b7b-9c510d543034",
   "metadata": {},
   "outputs": [
    {
     "data": {
      "text/plain": [
       "array([4.12713439, 4.09434456, 4.54329478, 4.00733319, 1.60943791,\n",
       "       4.11087386, 3.78418963, 4.57471098, 3.71357207, 3.91202301])"
      ]
     },
     "execution_count": 17,
     "metadata": {},
     "output_type": "execute_result"
    }
   ],
   "source": [
    "np.log(data)"
   ]
  },
  {
   "cell_type": "code",
   "execution_count": 18,
   "id": "9fc1e424-1dc1-4dd8-86ef-820aa05cf076",
   "metadata": {},
   "outputs": [
    {
     "data": {
      "text/plain": [
       "array([1.79239169, 1.77815125, 1.97312785, 1.74036269, 0.69897   ,\n",
       "       1.78532984, 1.64345268, 1.98677173, 1.61278386, 1.69897   ])"
      ]
     },
     "execution_count": 18,
     "metadata": {},
     "output_type": "execute_result"
    }
   ],
   "source": [
    "np.log10(data)"
   ]
  },
  {
   "cell_type": "code",
   "execution_count": 19,
   "id": "369da85a-a67d-471f-9f9e-9b47ebcb35c7",
   "metadata": {},
   "outputs": [
    {
     "data": {
      "text/plain": [
       "array([5.95419631, 5.9068906 , 6.55458885, 5.78135971, 2.32192809,\n",
       "       5.93073734, 5.45943162, 6.59991284, 5.357552  , 5.64385619])"
      ]
     },
     "execution_count": 19,
     "metadata": {},
     "output_type": "execute_result"
    }
   ],
   "source": [
    "np.log2(data)"
   ]
  },
  {
   "cell_type": "code",
   "execution_count": 20,
   "id": "4e2f5c08-eb5e-4be7-b006-d3e538c3c887",
   "metadata": {},
   "outputs": [
    {
     "data": {
      "text/plain": [
       "2.718281828459045"
      ]
     },
     "execution_count": 20,
     "metadata": {},
     "output_type": "execute_result"
    }
   ],
   "source": [
    "np.e"
   ]
  },
  {
   "cell_type": "code",
   "execution_count": 21,
   "id": "28731651-7b90-4328-ac28-d8431ec4a809",
   "metadata": {},
   "outputs": [
    {
     "data": {
      "text/plain": [
       "np.float64(0.2867)"
      ]
     },
     "execution_count": 21,
     "metadata": {},
     "output_type": "execute_result"
    }
   ],
   "source": [
    "import math\n",
    "np.log(math.pow(2.718281828459045,0.2867))"
   ]
  },
  {
   "cell_type": "code",
   "execution_count": 22,
   "id": "7905b95c-f8c0-4834-ab01-509745981965",
   "metadata": {},
   "outputs": [
    {
     "data": {
      "text/plain": [
       "array([[7, 6, 7],\n",
       "       [7, 7, 5],\n",
       "       [0, 4, 9]], dtype=int32)"
      ]
     },
     "execution_count": 22,
     "metadata": {},
     "output_type": "execute_result"
    }
   ],
   "source": [
    "data1 = np.random.randint(0,10,(3,3))\n",
    "data2 = np.random.randint(0,10,(3,3))\n",
    "data1"
   ]
  },
  {
   "cell_type": "code",
   "execution_count": 23,
   "id": "d17a198c-3128-402d-8ce5-9e74e7b3e419",
   "metadata": {},
   "outputs": [
    {
     "data": {
      "text/plain": [
       "array([[7, 9, 8],\n",
       "       [3, 4, 1],\n",
       "       [2, 3, 0]], dtype=int32)"
      ]
     },
     "execution_count": 23,
     "metadata": {},
     "output_type": "execute_result"
    }
   ],
   "source": [
    "data2"
   ]
  },
  {
   "cell_type": "code",
   "execution_count": 24,
   "id": "8ec037c6-8619-4003-a45a-50aba0e77dbd",
   "metadata": {},
   "outputs": [
    {
     "data": {
      "text/plain": [
       "array([[14, 15, 15],\n",
       "       [10, 11,  6],\n",
       "       [ 2,  7,  9]], dtype=int32)"
      ]
     },
     "execution_count": 24,
     "metadata": {},
     "output_type": "execute_result"
    }
   ],
   "source": [
    "np.add(data1,data2)"
   ]
  },
  {
   "cell_type": "code",
   "execution_count": 25,
   "id": "3d2f67a5-553a-4cc5-b499-c3b57cc1a1ea",
   "metadata": {},
   "outputs": [
    {
     "data": {
      "text/plain": [
       "array([[ 0, -3, -1],\n",
       "       [ 4,  3,  4],\n",
       "       [-2,  1,  9]], dtype=int32)"
      ]
     },
     "execution_count": 25,
     "metadata": {},
     "output_type": "execute_result"
    }
   ],
   "source": [
    "np.subtract(data1,data2)"
   ]
  },
  {
   "cell_type": "code",
   "execution_count": 26,
   "id": "7c83bc18-de8e-47d7-bb58-1c80ed941037",
   "metadata": {},
   "outputs": [
    {
     "data": {
      "text/plain": [
       "array([[49, 54, 56],\n",
       "       [21, 28,  5],\n",
       "       [ 0, 12,  0]], dtype=int32)"
      ]
     },
     "execution_count": 26,
     "metadata": {},
     "output_type": "execute_result"
    }
   ],
   "source": [
    "np.multiply(data1,data2)"
   ]
  },
  {
   "cell_type": "code",
   "execution_count": 27,
   "id": "54e8d42d-3355-4bca-af4a-943b29e07651",
   "metadata": {},
   "outputs": [
    {
     "name": "stderr",
     "output_type": "stream",
     "text": [
      "C:\\Users\\admin\\AppData\\Local\\Temp\\ipykernel_7632\\18017515.py:1: RuntimeWarning: divide by zero encountered in divide\n",
      "  np.divide(data1,data2)\n"
     ]
    },
    {
     "data": {
      "text/plain": [
       "array([[1.        , 0.66666667, 0.875     ],\n",
       "       [2.33333333, 1.75      , 5.        ],\n",
       "       [0.        , 1.33333333,        inf]])"
      ]
     },
     "execution_count": 27,
     "metadata": {},
     "output_type": "execute_result"
    }
   ],
   "source": [
    "np.divide(data1,data2)"
   ]
  },
  {
   "cell_type": "code",
   "execution_count": 28,
   "id": "5c6b8a6c-7fc8-415e-8595-e738a5f4d1af",
   "metadata": {},
   "outputs": [
    {
     "data": {
      "text/plain": [
       "array([[7, 6, 7],\n",
       "       [7, 7, 5],\n",
       "       [0, 4, 9]], dtype=int32)"
      ]
     },
     "execution_count": 28,
     "metadata": {},
     "output_type": "execute_result"
    }
   ],
   "source": [
    "data1"
   ]
  },
  {
   "cell_type": "code",
   "execution_count": 29,
   "id": "e0be8427-4109-4d34-bb39-739bd34d828c",
   "metadata": {},
   "outputs": [
    {
     "data": {
      "text/plain": [
       "array([[7, 9, 8],\n",
       "       [3, 4, 1],\n",
       "       [2, 3, 0]], dtype=int32)"
      ]
     },
     "execution_count": 29,
     "metadata": {},
     "output_type": "execute_result"
    }
   ],
   "source": [
    "data2"
   ]
  },
  {
   "cell_type": "code",
   "execution_count": 30,
   "id": "35c257b7-dd46-4086-8b69-f4d2b8b6f78e",
   "metadata": {},
   "outputs": [
    {
     "name": "stderr",
     "output_type": "stream",
     "text": [
      "C:\\Users\\admin\\AppData\\Local\\Temp\\ipykernel_7632\\583036681.py:1: RuntimeWarning: divide by zero encountered in floor_divide\n",
      "  np.floor_divide(data1,data2)\n"
     ]
    },
    {
     "data": {
      "text/plain": [
       "array([[1, 0, 0],\n",
       "       [2, 1, 5],\n",
       "       [0, 1, 0]], dtype=int32)"
      ]
     },
     "execution_count": 30,
     "metadata": {},
     "output_type": "execute_result"
    }
   ],
   "source": [
    "np.floor_divide(data1,data2)"
   ]
  },
  {
   "cell_type": "code",
   "execution_count": 31,
   "id": "5ab53052-cde1-4b46-b8e7-e2ba19148360",
   "metadata": {},
   "outputs": [
    {
     "name": "stdout",
     "output_type": "stream",
     "text": [
      "[0.2 0.6 1.2 1.4 0.8 0.8 1.6 1.8 1.8 0.6]\n"
     ]
    },
    {
     "data": {
      "text/plain": [
       "array([1., 1., 2., 2., 1., 1., 2., 2., 2., 1.])"
      ]
     },
     "execution_count": 31,
     "metadata": {},
     "output_type": "execute_result"
    }
   ],
   "source": [
    "data = np.random.randint(0,10,10)/5\n",
    "print(data)\n",
    "np.ceil(data)"
   ]
  },
  {
   "cell_type": "code",
   "execution_count": 32,
   "id": "e772ae90-de35-4a53-bf8c-9bfb81473aad",
   "metadata": {},
   "outputs": [
    {
     "data": {
      "text/plain": [
       "array([0., 0., 1., 1., 0., 0., 1., 1., 1., 0.])"
      ]
     },
     "execution_count": 32,
     "metadata": {},
     "output_type": "execute_result"
    }
   ],
   "source": [
    "np.floor(data)"
   ]
  },
  {
   "cell_type": "raw",
   "id": "43ad9aa0-345b-4f21-9a63-48a21028daa8",
   "metadata": {},
   "source": [
    "Mathematical:\n",
    " Arithmetic\n",
    " exponential, log\n",
    " trigonometrics\n",
    " rounding"
   ]
  },
  {
   "cell_type": "code",
   "execution_count": 33,
   "id": "ef173431-59ce-4d79-adda-d0b70b4d964b",
   "metadata": {},
   "outputs": [
    {
     "data": {
      "text/plain": [
       "array([1, 9, 0, 0, 1, 8, 2, 4, 2, 9], dtype=int32)"
      ]
     },
     "execution_count": 33,
     "metadata": {},
     "output_type": "execute_result"
    }
   ],
   "source": [
    "import numpy as np\n",
    "data = np.random.randint(0,10,10)\n",
    "data\n"
   ]
  },
  {
   "cell_type": "code",
   "execution_count": 34,
   "id": "021c78f2-cff7-4e67-a028-6ef32ca869c2",
   "metadata": {},
   "outputs": [
    {
     "data": {
      "text/plain": [
       "array([9, 8, 9], dtype=int32)"
      ]
     },
     "execution_count": 34,
     "metadata": {},
     "output_type": "execute_result"
    }
   ],
   "source": [
    "data[data>5]"
   ]
  },
  {
   "cell_type": "code",
   "execution_count": 35,
   "id": "15b8793b-8548-4712-affc-1b1ecad73765",
   "metadata": {},
   "outputs": [
    {
     "data": {
      "text/plain": [
       "array([66, 82, 67, 85, 62, 32, 48, 15, 90, 51, 15, 34, 89, 73, 26, 85, 83,\n",
       "       67, 20, 39], dtype=int32)"
      ]
     },
     "execution_count": 35,
     "metadata": {},
     "output_type": "execute_result"
    }
   ],
   "source": [
    "marks=np.random.randint(10,100,20)\n",
    "marks"
   ]
  },
  {
   "cell_type": "code",
   "execution_count": 36,
   "id": "9078c171-5f40-45ce-8273-7c991243cb39",
   "metadata": {},
   "outputs": [
    {
     "data": {
      "text/plain": [
       "array([32, 48, 15, 15, 34, 26, 20, 39], dtype=int32)"
      ]
     },
     "execution_count": 36,
     "metadata": {},
     "output_type": "execute_result"
    }
   ],
   "source": [
    "marks[marks<=50]"
   ]
  },
  {
   "cell_type": "code",
   "execution_count": 37,
   "id": "5fc3203f-6051-4424-9595-487c5d1dcaa9",
   "metadata": {},
   "outputs": [
    {
     "data": {
      "text/plain": [
       "array([32, 48, 15, 51, 15, 34, 26, 20, 39], dtype=int32)"
      ]
     },
     "execution_count": 37,
     "metadata": {},
     "output_type": "execute_result"
    }
   ],
   "source": [
    "marks[marks<=np.mean(marks)]"
   ]
  },
  {
   "cell_type": "code",
   "execution_count": null,
   "id": "e4819592-2a13-4d08-adf4-8435d5c72058",
   "metadata": {},
   "outputs": [],
   "source": [
    "### array manipulation"
   ]
  },
  {
   "cell_type": "code",
   "execution_count": 40,
   "id": "b287adf1-b816-4442-9df0-e586554b84d4",
   "metadata": {},
   "outputs": [],
   "source": [
    "data = np.random.randint(0,10,(3,3))"
   ]
  },
  {
   "cell_type": "code",
   "execution_count": 41,
   "id": "b81e1989-00c4-4082-ac7d-e12f45e11e54",
   "metadata": {},
   "outputs": [
    {
     "data": {
      "text/plain": [
       "array([[4, 0, 5],\n",
       "       [1, 8, 3],\n",
       "       [4, 7, 8]], dtype=int32)"
      ]
     },
     "execution_count": 41,
     "metadata": {},
     "output_type": "execute_result"
    }
   ],
   "source": [
    "data"
   ]
  },
  {
   "cell_type": "code",
   "execution_count": 42,
   "id": "e83beda7-fdfe-4ff8-80ee-f04a591f7ae7",
   "metadata": {},
   "outputs": [
    {
     "data": {
      "text/plain": [
       "array([4, 0, 5, 1, 8, 3, 4, 7, 8], dtype=int32)"
      ]
     },
     "execution_count": 42,
     "metadata": {},
     "output_type": "execute_result"
    }
   ],
   "source": [
    "data.ravel()"
   ]
  },
  {
   "cell_type": "code",
   "execution_count": 43,
   "id": "0fd45eac-0397-4129-ba11-3e478657f1cc",
   "metadata": {},
   "outputs": [
    {
     "data": {
      "text/plain": [
       "array([[4, 1, 4],\n",
       "       [0, 8, 7],\n",
       "       [5, 3, 8]], dtype=int32)"
      ]
     },
     "execution_count": 43,
     "metadata": {},
     "output_type": "execute_result"
    }
   ],
   "source": [
    "data.T"
   ]
  },
  {
   "cell_type": "code",
   "execution_count": 3,
   "id": "db204abb-7744-413b-9a57-3350daba51f7",
   "metadata": {},
   "outputs": [
    {
     "data": {
      "text/plain": [
       "array([[0, 7, 4, 7, 2, 4, 9, 8, 4, 7],\n",
       "       [7, 3, 3, 4, 3, 1, 1, 1, 6, 6]], dtype=int32)"
      ]
     },
     "execution_count": 3,
     "metadata": {},
     "output_type": "execute_result"
    }
   ],
   "source": [
    "import numpy as np\n",
    "data = np.random.randint(0,10,20)\n",
    "data.reshape(2,10)"
   ]
  },
  {
   "cell_type": "code",
   "execution_count": 4,
   "id": "842667c8-19f2-4a87-a8a0-1edbae9c65ab",
   "metadata": {},
   "outputs": [],
   "source": [
    "data1 = np.random.randint(0,10,(4,3))\n",
    "data2 = np.random.randint(0,10,(4,3))"
   ]
  },
  {
   "cell_type": "code",
   "execution_count": 5,
   "id": "a81b7ef5-ad20-4160-9027-98b05327fc2e",
   "metadata": {},
   "outputs": [
    {
     "data": {
      "text/plain": [
       "array([[1, 6, 5],\n",
       "       [3, 7, 2],\n",
       "       [4, 6, 1],\n",
       "       [7, 1, 9]], dtype=int32)"
      ]
     },
     "execution_count": 5,
     "metadata": {},
     "output_type": "execute_result"
    }
   ],
   "source": [
    "data1"
   ]
  },
  {
   "cell_type": "code",
   "execution_count": 6,
   "id": "90ca3331-6b8e-4d93-8436-f2697de805fb",
   "metadata": {},
   "outputs": [
    {
     "data": {
      "text/plain": [
       "array([[8, 7, 3],\n",
       "       [5, 1, 8],\n",
       "       [2, 3, 1],\n",
       "       [2, 9, 0]], dtype=int32)"
      ]
     },
     "execution_count": 6,
     "metadata": {},
     "output_type": "execute_result"
    }
   ],
   "source": [
    "data2"
   ]
  },
  {
   "cell_type": "code",
   "execution_count": 7,
   "id": "c78ecc46-baea-4de2-ad01-5e2a847f7118",
   "metadata": {},
   "outputs": [
    {
     "data": {
      "text/plain": [
       "array([[1, 3, 4, 7],\n",
       "       [6, 7, 6, 1],\n",
       "       [5, 2, 1, 9]], dtype=int32)"
      ]
     },
     "execution_count": 7,
     "metadata": {},
     "output_type": "execute_result"
    }
   ],
   "source": [
    "data1.T"
   ]
  },
  {
   "cell_type": "code",
   "execution_count": 8,
   "id": "ec355893-fe82-45a6-a3c8-a7f576ef545e",
   "metadata": {},
   "outputs": [
    {
     "data": {
      "text/plain": [
       "array([[8, 5, 2, 2],\n",
       "       [7, 1, 3, 9],\n",
       "       [3, 8, 1, 0]], dtype=int32)"
      ]
     },
     "execution_count": 8,
     "metadata": {},
     "output_type": "execute_result"
    }
   ],
   "source": [
    "data2.T"
   ]
  },
  {
   "cell_type": "code",
   "execution_count": 10,
   "id": "35370703-4730-4ec3-bf9d-5bd1d10a4425",
   "metadata": {},
   "outputs": [
    {
     "data": {
      "text/plain": [
       "array([[1, 6, 5, 8, 7, 3],\n",
       "       [3, 7, 2, 5, 1, 8],\n",
       "       [4, 6, 1, 2, 3, 1],\n",
       "       [7, 1, 9, 2, 9, 0]], dtype=int32)"
      ]
     },
     "execution_count": 10,
     "metadata": {},
     "output_type": "execute_result"
    }
   ],
   "source": [
    "np.hstack([data1,data2])"
   ]
  },
  {
   "cell_type": "code",
   "execution_count": 11,
   "id": "c04c2aff-cecf-4952-8cd4-2c98e2a1af4c",
   "metadata": {},
   "outputs": [
    {
     "data": {
      "text/plain": [
       "array([[1, 6, 5],\n",
       "       [3, 7, 2],\n",
       "       [4, 6, 1],\n",
       "       [7, 1, 9],\n",
       "       [8, 7, 3],\n",
       "       [5, 1, 8],\n",
       "       [2, 3, 1],\n",
       "       [2, 9, 0]], dtype=int32)"
      ]
     },
     "execution_count": 11,
     "metadata": {},
     "output_type": "execute_result"
    }
   ],
   "source": [
    "np.vstack([data1,data2])"
   ]
  },
  {
   "cell_type": "code",
   "execution_count": 17,
   "id": "363660a5-3811-45d4-809b-8added24206f",
   "metadata": {},
   "outputs": [],
   "source": [
    "matrix = np.array([[1, 2, 3, 4],\n",
    "                   [5, 6, 7, 8],\n",
    "                   [9, 10, 11, 12],\n",
    "                   [13, 14, 15, 16]])"
   ]
  },
  {
   "cell_type": "code",
   "execution_count": 29,
   "id": "62e8121a-3e89-4f4f-b471-2b775147d4ad",
   "metadata": {},
   "outputs": [
    {
     "name": "stdout",
     "output_type": "stream",
     "text": [
      "[array([[1, 2, 3, 4],\n",
      "       [5, 6, 7, 8]]), array([[ 9, 10, 11, 12],\n",
      "       [13, 14, 15, 16]])]\n"
     ]
    }
   ],
   "source": [
    "\n",
    "split_data = np.vsplit(matrix, 2)\n",
    "\n",
    "print(split_data)\n"
   ]
  },
  {
   "cell_type": "markdown",
   "id": "13a58276-fd27-45ea-8327-84331efd49d2",
   "metadata": {},
   "source": []
  }
 ],
 "metadata": {
  "kernelspec": {
   "display_name": "Python 3 (ipykernel)",
   "language": "python",
   "name": "python3"
  },
  "language_info": {
   "codemirror_mode": {
    "name": "ipython",
    "version": 3
   },
   "file_extension": ".py",
   "mimetype": "text/x-python",
   "name": "python",
   "nbconvert_exporter": "python",
   "pygments_lexer": "ipython3",
   "version": "3.13.5"
  }
 },
 "nbformat": 4,
 "nbformat_minor": 5
}
