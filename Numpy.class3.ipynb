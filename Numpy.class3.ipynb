{
 "cells": [
  {
   "cell_type": "code",
   "execution_count": 1,
   "id": "3916cf96-9245-48a5-a102-63a0a908f0a3",
   "metadata": {},
   "outputs": [
    {
     "data": {
      "text/plain": [
       "array([[0, 0, 6],\n",
       "       [1, 6, 1],\n",
       "       [4, 4, 8]], dtype=int32)"
      ]
     },
     "execution_count": 1,
     "metadata": {},
     "output_type": "execute_result"
    }
   ],
   "source": [
    "import numpy as np\n",
    "data = np.random.randint(0,10,(3,3))\n",
    "data"
   ]
  },
  {
   "cell_type": "code",
   "execution_count": 2,
   "id": "4bb93955-eb51-4c7e-a885-02955976ef26",
   "metadata": {},
   "outputs": [],
   "source": [
    "### array creations functions"
   ]
  },
  {
   "cell_type": "code",
   "execution_count": 3,
   "id": "61f16b1a-1075-4987-8f23-81715b7d5e98",
   "metadata": {
    "scrolled": true
   },
   "outputs": [
    {
     "data": {
      "text/plain": [
       "array([1, 2, 3])"
      ]
     },
     "execution_count": 3,
     "metadata": {},
     "output_type": "execute_result"
    }
   ],
   "source": [
    "np.array([1,2,3])"
   ]
  },
  {
   "cell_type": "code",
   "execution_count": 4,
   "id": "d2f7fd33-f33b-465d-ac6f-56fa0d9ef443",
   "metadata": {},
   "outputs": [
    {
     "data": {
      "text/plain": [
       "array([[0., 0., 0.],\n",
       "       [0., 0., 0.],\n",
       "       [0., 0., 0.]])"
      ]
     },
     "execution_count": 4,
     "metadata": {},
     "output_type": "execute_result"
    }
   ],
   "source": [
    "np.zeros((3,3))"
   ]
  },
  {
   "cell_type": "code",
   "execution_count": 5,
   "id": "8f39acb1-0cce-45b4-a339-9a6d60f6ae9e",
   "metadata": {},
   "outputs": [
    {
     "data": {
      "text/plain": [
       "array([[1., 1., 1.],\n",
       "       [1., 1., 1.],\n",
       "       [1., 1., 1.]])"
      ]
     },
     "execution_count": 5,
     "metadata": {},
     "output_type": "execute_result"
    }
   ],
   "source": [
    "np.ones((3,3))"
   ]
  },
  {
   "cell_type": "code",
   "execution_count": 6,
   "id": "822294de-1e29-42a5-8307-2a99cf15e014",
   "metadata": {},
   "outputs": [
    {
     "data": {
      "text/plain": [
       "array([1., 1., 1.])"
      ]
     },
     "execution_count": 6,
     "metadata": {},
     "output_type": "execute_result"
    }
   ],
   "source": [
    "np.ones(3)"
   ]
  },
  {
   "cell_type": "code",
   "execution_count": 7,
   "id": "57cd3cb3-dbcb-4126-ad66-83440477f8b2",
   "metadata": {},
   "outputs": [
    {
     "data": {
      "text/plain": [
       "array([[1., 0., 0.],\n",
       "       [0., 1., 0.],\n",
       "       [0., 0., 1.]])"
      ]
     },
     "execution_count": 7,
     "metadata": {},
     "output_type": "execute_result"
    }
   ],
   "source": [
    "np.eye(3)"
   ]
  },
  {
   "cell_type": "code",
   "execution_count": 8,
   "id": "be162e4e-7c5c-4d6d-979c-3a0b343e1bd0",
   "metadata": {},
   "outputs": [
    {
     "data": {
      "text/plain": [
       "array([0, 1, 2, 3, 4, 5, 6, 7, 8, 9])"
      ]
     },
     "execution_count": 8,
     "metadata": {},
     "output_type": "execute_result"
    }
   ],
   "source": [
    "np.arange(0,10)"
   ]
  },
  {
   "cell_type": "code",
   "execution_count": 9,
   "id": "22af4235-430e-4655-bb90-e3d1eddd1271",
   "metadata": {},
   "outputs": [
    {
     "data": {
      "text/plain": [
       "array([ 0. ,  2.5,  5. ,  7.5, 10. ])"
      ]
     },
     "execution_count": 9,
     "metadata": {},
     "output_type": "execute_result"
    }
   ],
   "source": [
    "np.linspace(0,10,5)"
   ]
  },
  {
   "cell_type": "code",
   "execution_count": 10,
   "id": "9b0c34f4-4fd4-4261-8c91-c99f9ffd4df0",
   "metadata": {},
   "outputs": [],
   "source": [
    "### Mathematical Functions"
   ]
  },
  {
   "cell_type": "code",
   "execution_count": 11,
   "id": "50532ea8-8a01-4474-9d2f-6cb60cfeff50",
   "metadata": {},
   "outputs": [
    {
     "data": {
      "text/plain": [
       "array([ 2, 83, 27, 28, 10, 30, 20, 58, 89, 55], dtype=int32)"
      ]
     },
     "execution_count": 11,
     "metadata": {},
     "output_type": "execute_result"
    }
   ],
   "source": [
    "data = np.random.randint(0,100,10)\n",
    "data"
   ]
  },
  {
   "cell_type": "code",
   "execution_count": 12,
   "id": "12f85b1f-6b91-433d-8936-07066ddd1c4f",
   "metadata": {},
   "outputs": [
    {
     "name": "stdout",
     "output_type": "stream",
     "text": [
      "[ 0.90929743  0.96836446  0.95637593  0.27090579 -0.54402111 -0.98803162\n",
      "  0.91294525  0.99287265  0.86006941 -0.99975517]\n",
      "[-0.41614684  0.24954012 -0.29213881 -0.96260587 -0.83907153  0.15425145\n",
      "  0.40808206  0.11918014  0.51017704  0.02212676]\n",
      "[ -2.18503986   3.88059631  -3.2737038   -0.2814296    0.64836083\n",
      "  -6.4053312    2.23716094   8.33085685   1.68582537 -45.18308791]\n"
     ]
    }
   ],
   "source": [
    "print(np.sin(data))\n",
    "print(np.cos(data))\n",
    "print(np.tan(data))"
   ]
  },
  {
   "cell_type": "code",
   "execution_count": 13,
   "id": "759b0f88-67ee-4c59-acc1-3a9e4208fa63",
   "metadata": {},
   "outputs": [
    {
     "name": "stderr",
     "output_type": "stream",
     "text": [
      "C:\\Users\\admin\\AppData\\Local\\Temp\\ipykernel_15940\\4017286375.py:1: RuntimeWarning: invalid value encountered in arccos\n",
      "  np.arccos(data)\n"
     ]
    },
    {
     "data": {
      "text/plain": [
       "array([nan, nan, nan, nan, nan, nan, nan, nan, nan, nan])"
      ]
     },
     "execution_count": 13,
     "metadata": {},
     "output_type": "execute_result"
    }
   ],
   "source": [
    "np.arccos(data)"
   ]
  },
  {
   "cell_type": "code",
   "execution_count": 14,
   "id": "8b56f749-7a68-4ba7-9093-2393d4122799",
   "metadata": {},
   "outputs": [
    {
     "data": {
      "text/plain": [
       "array([1.10714872, 1.55874872, 1.53377621, 1.53509721, 1.47112767,\n",
       "       1.53747533, 1.52083793, 1.55355666, 1.55956084, 1.55261651])"
      ]
     },
     "execution_count": 14,
     "metadata": {},
     "output_type": "execute_result"
    }
   ],
   "source": [
    "np.arctan(data)"
   ]
  },
  {
   "cell_type": "code",
   "execution_count": 15,
   "id": "baf4b192-64c8-406c-a16c-85d64f4e8784",
   "metadata": {},
   "outputs": [
    {
     "data": {
      "text/plain": [
       "array([1.57079633, 0.52359878])"
      ]
     },
     "execution_count": 15,
     "metadata": {},
     "output_type": "execute_result"
    }
   ],
   "source": [
    "np.arcsin(np.array([1,0.5]))"
   ]
  },
  {
   "cell_type": "code",
   "execution_count": 16,
   "id": "4362b610-15bf-4210-a8df-e3da921657fe",
   "metadata": {},
   "outputs": [
    {
     "data": {
      "text/plain": [
       "array([ 2, 83, 27, 28, 10, 30, 20, 58, 89, 55], dtype=int32)"
      ]
     },
     "execution_count": 16,
     "metadata": {},
     "output_type": "execute_result"
    }
   ],
   "source": [
    "data"
   ]
  },
  {
   "cell_type": "code",
   "execution_count": 17,
   "id": "9f85a32e-985e-493c-9b7b-9c510d543034",
   "metadata": {},
   "outputs": [
    {
     "data": {
      "text/plain": [
       "array([0.69314718, 4.41884061, 3.29583687, 3.33220451, 2.30258509,\n",
       "       3.40119738, 2.99573227, 4.06044301, 4.48863637, 4.00733319])"
      ]
     },
     "execution_count": 17,
     "metadata": {},
     "output_type": "execute_result"
    }
   ],
   "source": [
    "np.log(data)"
   ]
  },
  {
   "cell_type": "code",
   "execution_count": 18,
   "id": "9fc1e424-1dc1-4dd8-86ef-820aa05cf076",
   "metadata": {},
   "outputs": [
    {
     "data": {
      "text/plain": [
       "array([0.30103   , 1.91907809, 1.43136376, 1.44715803, 1.        ,\n",
       "       1.47712125, 1.30103   , 1.76342799, 1.94939001, 1.74036269])"
      ]
     },
     "execution_count": 18,
     "metadata": {},
     "output_type": "execute_result"
    }
   ],
   "source": [
    "np.log10(data)"
   ]
  },
  {
   "cell_type": "code",
   "execution_count": 19,
   "id": "369da85a-a67d-471f-9f9e-9b47ebcb35c7",
   "metadata": {},
   "outputs": [
    {
     "data": {
      "text/plain": [
       "array([1.        , 6.37503943, 4.7548875 , 4.80735492, 3.32192809,\n",
       "       4.9068906 , 4.32192809, 5.857981  , 6.47573343, 5.78135971])"
      ]
     },
     "execution_count": 19,
     "metadata": {},
     "output_type": "execute_result"
    }
   ],
   "source": [
    "np.log2(data)"
   ]
  },
  {
   "cell_type": "code",
   "execution_count": 20,
   "id": "4e2f5c08-eb5e-4be7-b006-d3e538c3c887",
   "metadata": {},
   "outputs": [
    {
     "data": {
      "text/plain": [
       "2.718281828459045"
      ]
     },
     "execution_count": 20,
     "metadata": {},
     "output_type": "execute_result"
    }
   ],
   "source": [
    "np.e"
   ]
  },
  {
   "cell_type": "code",
   "execution_count": 21,
   "id": "28731651-7b90-4328-ac28-d8431ec4a809",
   "metadata": {},
   "outputs": [
    {
     "data": {
      "text/plain": [
       "np.float64(0.2867)"
      ]
     },
     "execution_count": 21,
     "metadata": {},
     "output_type": "execute_result"
    }
   ],
   "source": [
    "import math\n",
    "np.log(math.pow(2.718281828459045,0.2867))"
   ]
  },
  {
   "cell_type": "code",
   "execution_count": 22,
   "id": "7905b95c-f8c0-4834-ab01-509745981965",
   "metadata": {},
   "outputs": [
    {
     "data": {
      "text/plain": [
       "array([[3, 5, 0],\n",
       "       [6, 8, 6],\n",
       "       [8, 7, 6]], dtype=int32)"
      ]
     },
     "execution_count": 22,
     "metadata": {},
     "output_type": "execute_result"
    }
   ],
   "source": [
    "data1 = np.random.randint(0,10,(3,3))\n",
    "data2 = np.random.randint(0,10,(3,3))\n",
    "data1"
   ]
  },
  {
   "cell_type": "code",
   "execution_count": 23,
   "id": "d17a198c-3128-402d-8ce5-9e74e7b3e419",
   "metadata": {},
   "outputs": [
    {
     "data": {
      "text/plain": [
       "array([[5, 9, 5],\n",
       "       [6, 2, 4],\n",
       "       [9, 2, 9]], dtype=int32)"
      ]
     },
     "execution_count": 23,
     "metadata": {},
     "output_type": "execute_result"
    }
   ],
   "source": [
    "data2"
   ]
  },
  {
   "cell_type": "code",
   "execution_count": 24,
   "id": "8ec037c6-8619-4003-a45a-50aba0e77dbd",
   "metadata": {},
   "outputs": [
    {
     "data": {
      "text/plain": [
       "array([[ 8, 14,  5],\n",
       "       [12, 10, 10],\n",
       "       [17,  9, 15]], dtype=int32)"
      ]
     },
     "execution_count": 24,
     "metadata": {},
     "output_type": "execute_result"
    }
   ],
   "source": [
    "np.add(data1,data2)"
   ]
  },
  {
   "cell_type": "code",
   "execution_count": 25,
   "id": "3d2f67a5-553a-4cc5-b499-c3b57cc1a1ea",
   "metadata": {},
   "outputs": [
    {
     "data": {
      "text/plain": [
       "array([[-2, -4, -5],\n",
       "       [ 0,  6,  2],\n",
       "       [-1,  5, -3]], dtype=int32)"
      ]
     },
     "execution_count": 25,
     "metadata": {},
     "output_type": "execute_result"
    }
   ],
   "source": [
    "np.subtract(data1,data2)"
   ]
  },
  {
   "cell_type": "code",
   "execution_count": 26,
   "id": "7c83bc18-de8e-47d7-bb58-1c80ed941037",
   "metadata": {},
   "outputs": [
    {
     "data": {
      "text/plain": [
       "array([[15, 45,  0],\n",
       "       [36, 16, 24],\n",
       "       [72, 14, 54]], dtype=int32)"
      ]
     },
     "execution_count": 26,
     "metadata": {},
     "output_type": "execute_result"
    }
   ],
   "source": [
    "np.multiply(data1,data2)"
   ]
  },
  {
   "cell_type": "code",
   "execution_count": 27,
   "id": "54e8d42d-3355-4bca-af4a-943b29e07651",
   "metadata": {},
   "outputs": [
    {
     "data": {
      "text/plain": [
       "array([[0.6       , 0.55555556, 0.        ],\n",
       "       [1.        , 4.        , 1.5       ],\n",
       "       [0.88888889, 3.5       , 0.66666667]])"
      ]
     },
     "execution_count": 27,
     "metadata": {},
     "output_type": "execute_result"
    }
   ],
   "source": [
    "np.divide(data1,data2)"
   ]
  },
  {
   "cell_type": "code",
   "execution_count": 28,
   "id": "5c6b8a6c-7fc8-415e-8595-e738a5f4d1af",
   "metadata": {},
   "outputs": [
    {
     "data": {
      "text/plain": [
       "array([[3, 5, 0],\n",
       "       [6, 8, 6],\n",
       "       [8, 7, 6]], dtype=int32)"
      ]
     },
     "execution_count": 28,
     "metadata": {},
     "output_type": "execute_result"
    }
   ],
   "source": [
    "data1"
   ]
  },
  {
   "cell_type": "code",
   "execution_count": 29,
   "id": "e0be8427-4109-4d34-bb39-739bd34d828c",
   "metadata": {},
   "outputs": [
    {
     "data": {
      "text/plain": [
       "array([[5, 9, 5],\n",
       "       [6, 2, 4],\n",
       "       [9, 2, 9]], dtype=int32)"
      ]
     },
     "execution_count": 29,
     "metadata": {},
     "output_type": "execute_result"
    }
   ],
   "source": [
    "data2"
   ]
  },
  {
   "cell_type": "code",
   "execution_count": 30,
   "id": "35c257b7-dd46-4086-8b69-f4d2b8b6f78e",
   "metadata": {},
   "outputs": [
    {
     "data": {
      "text/plain": [
       "array([[0, 0, 0],\n",
       "       [1, 4, 1],\n",
       "       [0, 3, 0]], dtype=int32)"
      ]
     },
     "execution_count": 30,
     "metadata": {},
     "output_type": "execute_result"
    }
   ],
   "source": [
    "np.floor_divide(data1,data2)"
   ]
  },
  {
   "cell_type": "code",
   "execution_count": 31,
   "id": "5ab53052-cde1-4b46-b8e7-e2ba19148360",
   "metadata": {},
   "outputs": [
    {
     "name": "stdout",
     "output_type": "stream",
     "text": [
      "[1.6 0.4 0.8 1.4 1.6 0.4 0.8 0.2 0.6 1. ]\n"
     ]
    },
    {
     "data": {
      "text/plain": [
       "array([2., 1., 1., 2., 2., 1., 1., 1., 1., 1.])"
      ]
     },
     "execution_count": 31,
     "metadata": {},
     "output_type": "execute_result"
    }
   ],
   "source": [
    "data = np.random.randint(0,10,10)/5\n",
    "print(data)\n",
    "np.ceil(data)"
   ]
  },
  {
   "cell_type": "code",
   "execution_count": 32,
   "id": "e772ae90-de35-4a53-bf8c-9bfb81473aad",
   "metadata": {},
   "outputs": [
    {
     "data": {
      "text/plain": [
       "array([1., 0., 0., 1., 1., 0., 0., 0., 0., 1.])"
      ]
     },
     "execution_count": 32,
     "metadata": {},
     "output_type": "execute_result"
    }
   ],
   "source": [
    "np.floor(data)"
   ]
  },
  {
   "cell_type": "raw",
   "id": "43ad9aa0-345b-4f21-9a63-48a21028daa8",
   "metadata": {},
   "source": [
    "Mathematical:\n",
    " Arithmetic\n",
    " exponential, log\n",
    " trigonometrics\n",
    " rounding"
   ]
  },
  {
   "cell_type": "code",
   "execution_count": 33,
   "id": "ef173431-59ce-4d79-adda-d0b70b4d964b",
   "metadata": {},
   "outputs": [
    {
     "data": {
      "text/plain": [
       "array([7, 9, 5, 2, 5, 1, 0, 9, 0, 3], dtype=int32)"
      ]
     },
     "execution_count": 33,
     "metadata": {},
     "output_type": "execute_result"
    }
   ],
   "source": [
    "import numpy as np\n",
    "data = np.random.randint(0,10,10)\n",
    "data\n"
   ]
  },
  {
   "cell_type": "code",
   "execution_count": 34,
   "id": "021c78f2-cff7-4e67-a028-6ef32ca869c2",
   "metadata": {},
   "outputs": [
    {
     "data": {
      "text/plain": [
       "array([7, 9, 9], dtype=int32)"
      ]
     },
     "execution_count": 34,
     "metadata": {},
     "output_type": "execute_result"
    }
   ],
   "source": [
    "data[data>5]"
   ]
  },
  {
   "cell_type": "code",
   "execution_count": 35,
   "id": "15b8793b-8548-4712-affc-1b1ecad73765",
   "metadata": {},
   "outputs": [
    {
     "data": {
      "text/plain": [
       "array([35, 57, 71, 86, 52, 88, 32, 32, 99, 22, 85, 34, 83, 25, 18, 57, 26,\n",
       "       27, 26, 77], dtype=int32)"
      ]
     },
     "execution_count": 35,
     "metadata": {},
     "output_type": "execute_result"
    }
   ],
   "source": [
    "marks=np.random.randint(10,100,20)\n",
    "marks"
   ]
  },
  {
   "cell_type": "code",
   "execution_count": 36,
   "id": "9078c171-5f40-45ce-8273-7c991243cb39",
   "metadata": {},
   "outputs": [
    {
     "data": {
      "text/plain": [
       "array([35, 32, 32, 22, 34, 25, 18, 26, 27, 26], dtype=int32)"
      ]
     },
     "execution_count": 36,
     "metadata": {},
     "output_type": "execute_result"
    }
   ],
   "source": [
    "marks[marks<=50]"
   ]
  },
  {
   "cell_type": "code",
   "execution_count": null,
   "id": "5fc3203f-6051-4424-9595-487c5d1dcaa9",
   "metadata": {},
   "outputs": [],
   "source": []
  }
 ],
 "metadata": {
  "kernelspec": {
   "display_name": "Python 3 (ipykernel)",
   "language": "python",
   "name": "python3"
  },
  "language_info": {
   "codemirror_mode": {
    "name": "ipython",
    "version": 3
   },
   "file_extension": ".py",
   "mimetype": "text/x-python",
   "name": "python",
   "nbconvert_exporter": "python",
   "pygments_lexer": "ipython3",
   "version": "3.13.5"
  }
 },
 "nbformat": 4,
 "nbformat_minor": 5
}
