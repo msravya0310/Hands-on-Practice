{
 "cells": [
  {
   "cell_type": "code",
   "execution_count": 1,
   "id": "5e26406f-ae38-45b5-924e-12b368e583a2",
   "metadata": {},
   "outputs": [],
   "source": [
    "import math"
   ]
  },
  {
   "cell_type": "code",
   "execution_count": 2,
   "id": "20465ec7-2282-4d1f-b934-d98c433fa748",
   "metadata": {},
   "outputs": [
    {
     "name": "stdout",
     "output_type": "stream",
     "text": [
      "2.718281828459045\n"
     ]
    }
   ],
   "source": [
    "print(math.e)"
   ]
  },
  {
   "cell_type": "code",
   "execution_count": 3,
   "id": "10e0e5f3-9b3b-4a9d-8bd2-232739d4063e",
   "metadata": {},
   "outputs": [
    {
     "data": {
      "text/plain": [
       "3.141592653589793"
      ]
     },
     "execution_count": 3,
     "metadata": {},
     "output_type": "execute_result"
    }
   ],
   "source": [
    "math.pi"
   ]
  },
  {
   "cell_type": "code",
   "execution_count": 4,
   "id": "1600434b-f07f-48d9-9224-527cdcc80262",
   "metadata": {},
   "outputs": [
    {
     "data": {
      "text/plain": [
       "6.283185307179586"
      ]
     },
     "execution_count": 4,
     "metadata": {},
     "output_type": "execute_result"
    }
   ],
   "source": [
    "math.tau"
   ]
  },
  {
   "cell_type": "code",
   "execution_count": 5,
   "id": "a6e78295-fb87-4bfc-ab67-689489c5b5b2",
   "metadata": {},
   "outputs": [
    {
     "data": {
      "text/plain": [
       "3"
      ]
     },
     "execution_count": 5,
     "metadata": {},
     "output_type": "execute_result"
    }
   ],
   "source": [
    "math.ceil(2.3) #ceil means top value"
   ]
  },
  {
   "cell_type": "code",
   "execution_count": 6,
   "id": "b182821d-a7a6-4fa5-8392-77979e88bc3f",
   "metadata": {},
   "outputs": [
    {
     "data": {
      "text/plain": [
       "2"
      ]
     },
     "execution_count": 6,
     "metadata": {},
     "output_type": "execute_result"
    }
   ],
   "source": [
    "math.floor(2.3) #floor means flow value"
   ]
  },
  {
   "cell_type": "code",
   "execution_count": 7,
   "id": "35193f62-ac45-4bf2-b55b-333ab8d3c040",
   "metadata": {},
   "outputs": [
    {
     "data": {
      "text/plain": [
       "inf"
      ]
     },
     "execution_count": 7,
     "metadata": {},
     "output_type": "execute_result"
    }
   ],
   "source": [
    "math.inf"
   ]
  },
  {
   "cell_type": "code",
   "execution_count": 8,
   "id": "9aab6cca-7942-4cf9-8086-170f36770703",
   "metadata": {},
   "outputs": [
    {
     "data": {
      "text/plain": [
       "nan"
      ]
     },
     "execution_count": 8,
     "metadata": {},
     "output_type": "execute_result"
    }
   ],
   "source": [
    "math.nan"
   ]
  },
  {
   "cell_type": "raw",
   "id": "250abfb8-8ee2-4fdb-b6a7-a343b2fbafaa",
   "metadata": {},
   "source": [
    "customer sale units\n",
    "c1: 10    11\n",
    "c2: -     2\n",
    "c3:30     3\n",
    "c4:40     44"
   ]
  },
  {
   "cell_type": "code",
   "execution_count": 9,
   "id": "def45c77-a9c4-4a76-9b15-39936d9688ea",
   "metadata": {},
   "outputs": [
    {
     "data": {
      "text/plain": [
       "120"
      ]
     },
     "execution_count": 9,
     "metadata": {},
     "output_type": "execute_result"
    }
   ],
   "source": [
    "math.factorial(5)"
   ]
  },
  {
   "cell_type": "code",
   "execution_count": 10,
   "id": "bca43802-51dc-4ed9-a8e9-f33327f3945b",
   "metadata": {},
   "outputs": [
    {
     "data": {
      "text/plain": [
       "3.321928094887362"
      ]
     },
     "execution_count": 10,
     "metadata": {},
     "output_type": "execute_result"
    }
   ],
   "source": [
    "math.log2(10)"
   ]
  },
  {
   "cell_type": "code",
   "execution_count": 11,
   "id": "9872d166-0c5d-4f00-99c3-1385cf2ddad0",
   "metadata": {},
   "outputs": [
    {
     "data": {
      "text/plain": [
       "1.0"
      ]
     },
     "execution_count": 11,
     "metadata": {},
     "output_type": "execute_result"
    }
   ],
   "source": [
    "math.log10(10)"
   ]
  },
  {
   "cell_type": "code",
   "execution_count": 12,
   "id": "cd4889e5-230c-45c1-a859-9c6465ed9593",
   "metadata": {},
   "outputs": [
    {
     "data": {
      "text/plain": [
       "5.0"
      ]
     },
     "execution_count": 12,
     "metadata": {},
     "output_type": "execute_result"
    }
   ],
   "source": [
    "math.log2(32)"
   ]
  },
  {
   "cell_type": "code",
   "execution_count": 13,
   "id": "544629b7-a7ba-4d3c-96d8-8fbb480ea71f",
   "metadata": {},
   "outputs": [
    {
     "data": {
      "text/plain": [
       "3.0"
      ]
     },
     "execution_count": 13,
     "metadata": {},
     "output_type": "execute_result"
    }
   ],
   "source": [
    "math.log10(1000)"
   ]
  },
  {
   "cell_type": "code",
   "execution_count": 14,
   "id": "06d3ffe1-7311-4b46-ae1b-a7a68fc93852",
   "metadata": {},
   "outputs": [
    {
     "data": {
      "text/plain": [
       "1.0234640833517337"
      ]
     },
     "execution_count": 14,
     "metadata": {},
     "output_type": "execute_result"
    }
   ],
   "source": [
    "math.log(2.782818)"
   ]
  },
  {
   "cell_type": "code",
   "execution_count": 15,
   "id": "45bbbc7e-4916-4af8-a021-a8308397ebe6",
   "metadata": {},
   "outputs": [
    {
     "data": {
      "text/plain": [
       "6.1224928095143865"
      ]
     },
     "execution_count": 15,
     "metadata": {},
     "output_type": "execute_result"
    }
   ],
   "source": [
    "math.log(456)"
   ]
  },
  {
   "cell_type": "code",
   "execution_count": 16,
   "id": "d6803baa-d002-483b-9f22-b2c14151960c",
   "metadata": {},
   "outputs": [
    {
     "data": {
      "text/plain": [
       "456.0"
      ]
     },
     "execution_count": 16,
     "metadata": {},
     "output_type": "execute_result"
    }
   ],
   "source": [
    "2.718281828459045**6.1224928095143865"
   ]
  },
  {
   "cell_type": "code",
   "execution_count": 17,
   "id": "cead799f-85c6-4838-9856-d4cedba98d90",
   "metadata": {},
   "outputs": [
    {
     "data": {
      "text/plain": [
       "2.0"
      ]
     },
     "execution_count": 17,
     "metadata": {},
     "output_type": "execute_result"
    }
   ],
   "source": [
    "math.sqrt(4)"
   ]
  },
  {
   "cell_type": "code",
   "execution_count": 18,
   "id": "65aa3f6e-2621-4b21-8d37-b65cacc126ac",
   "metadata": {},
   "outputs": [
    {
     "data": {
      "text/plain": [
       "22026.465794806718"
      ]
     },
     "execution_count": 18,
     "metadata": {},
     "output_type": "execute_result"
    }
   ],
   "source": [
    "math.exp(10)"
   ]
  },
  {
   "cell_type": "code",
   "execution_count": 19,
   "id": "b9d47eda-76a6-4b5f-a57a-8ce25e9d164c",
   "metadata": {},
   "outputs": [
    {
     "data": {
      "text/plain": [
       "8"
      ]
     },
     "execution_count": 19,
     "metadata": {},
     "output_type": "execute_result"
    }
   ],
   "source": [
    "math.gcd(16,24)"
   ]
  },
  {
   "cell_type": "raw",
   "id": "9163c251-4a7e-425f-908b-34dffca39169",
   "metadata": {},
   "source": [
    "math.prod"
   ]
  },
  {
   "cell_type": "code",
   "execution_count": 20,
   "id": "5bebd967-4319-4159-8b00-89e27931ed78",
   "metadata": {},
   "outputs": [
    {
     "name": "stdout",
     "output_type": "stream",
     "text": [
      "6\n",
      "6\n",
      "6\n"
     ]
    }
   ],
   "source": [
    "print(math.prod((1,2,3)))\n",
    "print(math.prod([1,2,3]))\n",
    "print(math.prod({1,2,3}))"
   ]
  },
  {
   "cell_type": "code",
   "execution_count": 21,
   "id": "bd53969a-41e0-476b-baa1-2a7e891c3eca",
   "metadata": {},
   "outputs": [
    {
     "name": "stdout",
     "output_type": "stream",
     "text": [
      "datadatadatadatadatadata\n",
      "(6+8j)\n",
      "6\n"
     ]
    }
   ],
   "source": [
    "print(math.prod((1,2,3,\"data\")))\n",
    "print(math.prod([1,2,3+4j]))\n",
    "print(math.prod({1,2,3}))"
   ]
  },
  {
   "cell_type": "code",
   "execution_count": 22,
   "id": "eff5833b-249f-49f3-8058-ad09841991e2",
   "metadata": {},
   "outputs": [
    {
     "name": "stdout",
     "output_type": "stream",
     "text": [
      "0.8939966636005579\n",
      "-0.4480736161291701\n",
      "-1.995200412208242\n"
     ]
    }
   ],
   "source": [
    "print(math.sin(90))\n",
    "print(math.cos(90))\n",
    "print(math.tan(90))"
   ]
  },
  {
   "cell_type": "code",
   "execution_count": 23,
   "id": "c156516e-8b8d-457e-8a4a-ecf747e323eb",
   "metadata": {},
   "outputs": [
    {
     "name": "stdout",
     "output_type": "stream",
     "text": [
      "1.5707963267948966\n",
      "0.0\n",
      "0.7853981633974483\n"
     ]
    }
   ],
   "source": [
    "print(math.asin(1))\n",
    "print(math.acos(1))\n",
    "print(math.atan(1))"
   ]
  },
  {
   "cell_type": "code",
   "execution_count": 24,
   "id": "7ec352c3-570d-4e89-88c8-353016da1586",
   "metadata": {},
   "outputs": [
    {
     "data": {
      "text/plain": [
       "False"
      ]
     },
     "execution_count": 24,
     "metadata": {},
     "output_type": "execute_result"
    }
   ],
   "source": [
    "math.isfinite(math.inf)"
   ]
  },
  {
   "cell_type": "code",
   "execution_count": 25,
   "id": "965ad0a4-d3c7-4335-a14a-a26d606d276d",
   "metadata": {},
   "outputs": [
    {
     "data": {
      "text/plain": [
       "False"
      ]
     },
     "execution_count": 25,
     "metadata": {},
     "output_type": "execute_result"
    }
   ],
   "source": [
    "math.isnan(10)"
   ]
  },
  {
   "cell_type": "raw",
   "id": "0d06867f-252c-4fdc-85ec-6dae46d21880",
   "metadata": {},
   "source": [
    "## inbuilt function"
   ]
  },
  {
   "cell_type": "code",
   "execution_count": 26,
   "id": "799b0c10-ae7b-4b1d-8555-c04eb49abe4c",
   "metadata": {},
   "outputs": [],
   "source": [
    "x=\"data\""
   ]
  },
  {
   "cell_type": "code",
   "execution_count": 27,
   "id": "87ae33b4-3987-47c3-9e81-3e2cf29fa97e",
   "metadata": {},
   "outputs": [
    {
     "name": "stdout",
     "output_type": "stream",
     "text": [
      "DATA\n"
     ]
    }
   ],
   "source": [
    "print(x.upper())"
   ]
  },
  {
   "cell_type": "code",
   "execution_count": 28,
   "id": "dce0da13-6254-4107-b83c-8e940f2f41c8",
   "metadata": {},
   "outputs": [
    {
     "name": "stdout",
     "output_type": "stream",
     "text": [
      "4\n"
     ]
    }
   ],
   "source": [
    "print(len(x))"
   ]
  },
  {
   "cell_type": "code",
   "execution_count": 29,
   "id": "7e221407-a194-4bb0-ae97-a1281e488ccf",
   "metadata": {},
   "outputs": [
    {
     "name": "stdout",
     "output_type": "stream",
     "text": [
      "4\n"
     ]
    }
   ],
   "source": [
    "x=[1,2,3,4]\n",
    "print(len(x))"
   ]
  },
  {
   "cell_type": "code",
   "execution_count": 30,
   "id": "1579fb6c-10a5-451f-aae7-b314faaad9f9",
   "metadata": {},
   "outputs": [
    {
     "name": "stdout",
     "output_type": "stream",
     "text": [
      "4\n"
     ]
    }
   ],
   "source": [
    "x=(1,2,3,4)\n",
    "print(len(x))"
   ]
  },
  {
   "cell_type": "code",
   "execution_count": 31,
   "id": "58f40499-2b84-4f87-b9c5-b15d328638db",
   "metadata": {},
   "outputs": [
    {
     "name": "stdout",
     "output_type": "stream",
     "text": [
      "4\n"
     ]
    }
   ],
   "source": [
    "x={1,2,3,4}\n",
    "print(len(x))"
   ]
  },
  {
   "cell_type": "code",
   "execution_count": 32,
   "id": "c86537f3-5013-4738-8458-5b0ba7c522f4",
   "metadata": {},
   "outputs": [
    {
     "name": "stdout",
     "output_type": "stream",
     "text": [
      "10\n",
      "10.5\n",
      "5.830951894845301\n"
     ]
    }
   ],
   "source": [
    "print(abs(-10))\n",
    "print(abs(-10.5))\n",
    "print(abs(3-5j))"
   ]
  },
  {
   "cell_type": "code",
   "execution_count": 33,
   "id": "7666cc5c-b51b-4b0a-8375-538ce388bc4e",
   "metadata": {},
   "outputs": [
    {
     "name": "stdout",
     "output_type": "stream",
     "text": [
      "True\n",
      "True\n",
      "True\n",
      "True\n"
     ]
    }
   ],
   "source": [
    "print(all([1,2,3])) #list\n",
    "print(all((1,1,\"yes\"))) #tuple\n",
    "print(all({1,2,3})) #set\n",
    "print(all({\"a\":1,\"b\":0})) #dict"
   ]
  },
  {
   "cell_type": "code",
   "execution_count": 34,
   "id": "1b1c14b2-1fba-408c-979d-9306e7d050f8",
   "metadata": {},
   "outputs": [
    {
     "name": "stdout",
     "output_type": "stream",
     "text": [
      "True\n",
      "True\n",
      "True\n"
     ]
    }
   ],
   "source": [
    "print(any([0,2,3])) #list\n",
    "print(any((False,1,\"\"))) #tuple\n",
    "print(any({0,0,0,5,3})) #set"
   ]
  },
  {
   "cell_type": "code",
   "execution_count": 35,
   "id": "997a1da3-a66b-4124-8afb-1d988b3ad342",
   "metadata": {},
   "outputs": [
    {
     "data": {
      "text/plain": [
       "'F'"
      ]
     },
     "execution_count": 35,
     "metadata": {},
     "output_type": "execute_result"
    }
   ],
   "source": [
    "chr(70)"
   ]
  },
  {
   "cell_type": "code",
   "execution_count": 36,
   "id": "34766221-6712-4fc4-9441-771ed7f4f933",
   "metadata": {},
   "outputs": [
    {
     "name": "stdout",
     "output_type": "stream",
     "text": [
      "A,B,C,D,E,F,G,H,I,J,K,L,M,N,O,P,Q,R,S,T,U,V,W,X,Y,Z,"
     ]
    }
   ],
   "source": [
    "for i in range(65,91):\n",
    "    print(chr(i),end=\",\")"
   ]
  },
  {
   "cell_type": "code",
   "execution_count": 37,
   "id": "ec9d8f0e-9fe9-4da0-81ee-c40309042e2e",
   "metadata": {},
   "outputs": [
    {
     "data": {
      "text/plain": [
       "20"
      ]
     },
     "execution_count": 37,
     "metadata": {},
     "output_type": "execute_result"
    }
   ],
   "source": [
    "int(20)\n"
   ]
  },
  {
   "cell_type": "code",
   "execution_count": 38,
   "id": "f435e2e3-5132-4ea5-b846-55f4bcc335d0",
   "metadata": {},
   "outputs": [
    {
     "data": {
      "text/plain": [
       "20.0"
      ]
     },
     "execution_count": 38,
     "metadata": {},
     "output_type": "execute_result"
    }
   ],
   "source": [
    "float(20)"
   ]
  },
  {
   "cell_type": "code",
   "execution_count": 39,
   "id": "b8aa8c83-3986-41a7-a052-fd600beb55b4",
   "metadata": {},
   "outputs": [
    {
     "data": {
      "text/plain": [
       "(23+0j)"
      ]
     },
     "execution_count": 39,
     "metadata": {},
     "output_type": "execute_result"
    }
   ],
   "source": [
    "complex(23.0)"
   ]
  },
  {
   "cell_type": "code",
   "execution_count": 40,
   "id": "7e97c892-cd44-4de8-8657-1b8666a32642",
   "metadata": {},
   "outputs": [
    {
     "data": {
      "text/plain": [
       "[1, 2, 3]"
      ]
     },
     "execution_count": 40,
     "metadata": {},
     "output_type": "execute_result"
    }
   ],
   "source": [
    "list([1,2,3])"
   ]
  },
  {
   "cell_type": "code",
   "execution_count": 41,
   "id": "f9e8ae77-bbe2-4fb8-b1d4-bf6af78b6550",
   "metadata": {},
   "outputs": [
    {
     "data": {
      "text/plain": [
       "{1, 2, 3, 43}"
      ]
     },
     "execution_count": 41,
     "metadata": {},
     "output_type": "execute_result"
    }
   ],
   "source": [
    "set({1,2,3,43})"
   ]
  },
  {
   "cell_type": "code",
   "execution_count": 42,
   "id": "163e683a-dc0a-466f-bcb4-70f5a1fdbac0",
   "metadata": {},
   "outputs": [
    {
     "name": "stdout",
     "output_type": "stream",
     "text": [
      "1 3\n",
      "4 6\n",
      "1 3\n"
     ]
    }
   ],
   "source": [
    "x=[1,2,3]\n",
    "y=(4,5,6)\n",
    "z={1,2,3}\n",
    "print(min(x), max(x))\n",
    "print(min(y), max(y))\n",
    "print(min(z), max(z))"
   ]
  },
  {
   "cell_type": "code",
   "execution_count": 43,
   "id": "48ee9d20-e30a-4bc7-88f0-eea9bb531d56",
   "metadata": {},
   "outputs": [
    {
     "data": {
      "text/plain": [
       "[(1, 1, 1), (2, 4, 7)]"
      ]
     },
     "execution_count": 43,
     "metadata": {},
     "output_type": "execute_result"
    }
   ],
   "source": [
    "x=(1,2,3)\n",
    "y=(1,4,5,6)\n",
    "z=(1,7)\n",
    "list(zip(x,y,z))"
   ]
  },
  {
   "cell_type": "code",
   "execution_count": 44,
   "id": "144c6f16-f617-4fbf-965d-e23835c6c2ad",
   "metadata": {},
   "outputs": [
    {
     "data": {
      "text/plain": [
       "[(1, 1), (2, 4), (3, 5)]"
      ]
     },
     "execution_count": 44,
     "metadata": {},
     "output_type": "execute_result"
    }
   ],
   "source": [
    "x=(1,2,3)\n",
    "y=(1,4,5,6)\n",
    "list(zip(x,y))"
   ]
  },
  {
   "cell_type": "code",
   "execution_count": 45,
   "id": "f3fe9240-4ddd-4405-80e6-18b3f0f9e132",
   "metadata": {},
   "outputs": [
    {
     "data": {
      "text/plain": [
       "531441"
      ]
     },
     "execution_count": 45,
     "metadata": {},
     "output_type": "execute_result"
    }
   ],
   "source": [
    "pow(9,6)"
   ]
  },
  {
   "cell_type": "code",
   "execution_count": 46,
   "id": "91810649-518e-41a7-8d5d-fa15ee4f6e65",
   "metadata": {},
   "outputs": [
    {
     "data": {
      "text/plain": [
       "[1, 2, 2, 3, 44]"
      ]
     },
     "execution_count": 46,
     "metadata": {},
     "output_type": "execute_result"
    }
   ],
   "source": [
    "a=(2,3,44,2,1)\n",
    "sorted(a)"
   ]
  },
  {
   "cell_type": "code",
   "execution_count": 47,
   "id": "2fe68835-3111-4a0c-9341-d985ca7b59da",
   "metadata": {},
   "outputs": [
    {
     "data": {
      "text/plain": [
       "[7, 1]"
      ]
     },
     "execution_count": 47,
     "metadata": {},
     "output_type": "execute_result"
    }
   ],
   "source": [
    "a=(2,3,44,2,1)\n",
    "sorted(z,reverse=True)\n"
   ]
  },
  {
   "cell_type": "code",
   "execution_count": 49,
   "id": "720c4567-9a11-469a-813c-45e6b04c7784",
   "metadata": {},
   "outputs": [
    {
     "data": {
      "text/plain": [
       "int"
      ]
     },
     "execution_count": 49,
     "metadata": {},
     "output_type": "execute_result"
    }
   ],
   "source": [
    "x=10\n",
    "type(x)"
   ]
  },
  {
   "cell_type": "code",
   "execution_count": null,
   "id": "e62c5578-18f4-4b51-9c11-aa2ddfafe646",
   "metadata": {},
   "outputs": [],
   "source": []
  }
 ],
 "metadata": {
  "kernelspec": {
   "display_name": "Python 3 (ipykernel)",
   "language": "python",
   "name": "python3"
  },
  "language_info": {
   "codemirror_mode": {
    "name": "ipython",
    "version": 3
   },
   "file_extension": ".py",
   "mimetype": "text/x-python",
   "name": "python",
   "nbconvert_exporter": "python",
   "pygments_lexer": "ipython3",
   "version": "3.13.5"
  }
 },
 "nbformat": 4,
 "nbformat_minor": 5
}
