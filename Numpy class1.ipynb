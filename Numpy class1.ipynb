{
 "cells": [
  {
   "cell_type": "code",
   "execution_count": 11,
   "id": "11d80466-32d0-4c47-a245-4d076b7eef37",
   "metadata": {},
   "outputs": [
    {
     "data": {
      "text/plain": [
       "array([[82, 25, 71, 80, 69],\n",
       "       [30,  8, 76, 48, 85],\n",
       "       [17, 94, 20, 62, 90],\n",
       "       [39, 77, 98, 72, 21],\n",
       "       [49, 65,  7, 60, 85]], dtype=int32)"
      ]
     },
     "execution_count": 11,
     "metadata": {},
     "output_type": "execute_result"
    }
   ],
   "source": [
    "import numpy as np\n",
    "data=np.random.randint(0,100,(5,5))\n",
    "data"
   ]
  },
  {
   "cell_type": "code",
   "execution_count": 2,
   "id": "dc2eb239-9540-41f3-bd5f-b338135e1f3a",
   "metadata": {},
   "outputs": [
    {
     "data": {
      "text/plain": [
       "numpy.ndarray"
      ]
     },
     "execution_count": 2,
     "metadata": {},
     "output_type": "execute_result"
    }
   ],
   "source": [
    "type(np.array([1,2,3]))"
   ]
  },
  {
   "cell_type": "code",
   "execution_count": 7,
   "id": "9dd26d22-cc44-43e8-84d2-d226f2fe7a62",
   "metadata": {},
   "outputs": [
    {
     "data": {
      "text/plain": [
       "np.int32(85)"
      ]
     },
     "execution_count": 7,
     "metadata": {},
     "output_type": "execute_result"
    }
   ],
   "source": [
    "data[0,0]"
   ]
  },
  {
   "cell_type": "code",
   "execution_count": 8,
   "id": "be486b4a-3fb6-4a29-95e8-6d25c6b04368",
   "metadata": {},
   "outputs": [
    {
     "data": {
      "text/plain": [
       "array([[85, 80,  2, 62, 46],\n",
       "       [93, 61, 17, 38,  2],\n",
       "       [19,  8, 25, 43, 98],\n",
       "       [51, 68, 77, 44, 70],\n",
       "       [ 3, 52, 14, 92, 32]], dtype=int32)"
      ]
     },
     "execution_count": 8,
     "metadata": {},
     "output_type": "execute_result"
    }
   ],
   "source": [
    "data"
   ]
  },
  {
   "cell_type": "code",
   "execution_count": 17,
   "id": "28d14dc1-dc32-4a4d-8e74-d13345101cda",
   "metadata": {},
   "outputs": [
    {
     "name": "stdout",
     "output_type": "stream",
     "text": [
      "[[82 25 71 80 69]\n",
      " [30  8 76 48 85]\n",
      " [17 94 20 62 90]\n",
      " [39 77 98 72 21]\n",
      " [49 65  7 60 85]]\n",
      " \n",
      "[[20 62]\n",
      " [98 72]]\n"
     ]
    }
   ],
   "source": [
    "print(data)\n",
    "print(\" \")\n",
    "print(data[-3:-1,-3:-1])"
   ]
  },
  {
   "cell_type": "code",
   "execution_count": 18,
   "id": "6d87dd43-eaf5-4790-9d41-161be827056c",
   "metadata": {},
   "outputs": [
    {
     "name": "stdout",
     "output_type": "stream",
     "text": [
      "[[82 25 71 80 69]\n",
      " [30  8 76 48 85]\n",
      " [17 94 20 62 90]\n",
      " [39 77 98 72 21]\n",
      " [49 65  7 60 85]]\n",
      "[[72]]\n"
     ]
    }
   ],
   "source": [
    "print(data)\n",
    "print(data[-2:-1,-2:-1])"
   ]
  },
  {
   "cell_type": "code",
   "execution_count": 21,
   "id": "beba0546-1a3c-4d1e-b3fb-df318571be01",
   "metadata": {},
   "outputs": [
    {
     "name": "stdout",
     "output_type": "stream",
     "text": [
      "<class 'list'>\n",
      "<class 'numpy.ndarray'>\n"
     ]
    }
   ],
   "source": [
    "x=[1,2,3]\n",
    "print(type(x))\n",
    "y=np.array([1,2,3])\n",
    "print(type(y))\n"
   ]
  },
  {
   "cell_type": "code",
   "execution_count": 22,
   "id": "2577ec5e-9b56-4b29-912f-a9954658e66d",
   "metadata": {},
   "outputs": [
    {
     "ename": "TypeError",
     "evalue": "unsupported operand type(s) for /: 'list' and 'int'",
     "output_type": "error",
     "traceback": [
      "\u001b[31m---------------------------------------------------------------------------\u001b[39m",
      "\u001b[31mTypeError\u001b[39m                                 Traceback (most recent call last)",
      "\u001b[36mCell\u001b[39m\u001b[36m \u001b[39m\u001b[32mIn[22]\u001b[39m\u001b[32m, line 1\u001b[39m\n\u001b[32m----> \u001b[39m\u001b[32m1\u001b[39m \u001b[43mx\u001b[49m\u001b[43m/\u001b[49m\u001b[32;43m2\u001b[39;49m\n",
      "\u001b[31mTypeError\u001b[39m: unsupported operand type(s) for /: 'list' and 'int'"
     ]
    }
   ],
   "source": [
    "x/2"
   ]
  },
  {
   "cell_type": "code",
   "execution_count": 23,
   "id": "bb54d554-f86f-494f-bb06-7cb39d23df7c",
   "metadata": {},
   "outputs": [
    {
     "data": {
      "text/plain": [
       "array([0.5, 1. , 1.5])"
      ]
     },
     "execution_count": 23,
     "metadata": {},
     "output_type": "execute_result"
    }
   ],
   "source": [
    "y/2"
   ]
  },
  {
   "cell_type": "code",
   "execution_count": 24,
   "id": "b7825611-1172-4908-bded-31e1dfd51234",
   "metadata": {},
   "outputs": [],
   "source": [
    "x=[1,2,3,6.0]\n",
    "y=np.array([1,2,3,6.0])"
   ]
  },
  {
   "cell_type": "code",
   "execution_count": 25,
   "id": "993ef9b2-b102-4bee-99da-c7e768ef5427",
   "metadata": {},
   "outputs": [
    {
     "data": {
      "text/plain": [
       "[1, 2, 3, 6.0]"
      ]
     },
     "execution_count": 25,
     "metadata": {},
     "output_type": "execute_result"
    }
   ],
   "source": [
    "x"
   ]
  },
  {
   "cell_type": "code",
   "execution_count": 26,
   "id": "0b28b8c3-8bc8-4008-aebb-d7ec93df657e",
   "metadata": {},
   "outputs": [
    {
     "data": {
      "text/plain": [
       "array([1., 2., 3., 6.])"
      ]
     },
     "execution_count": 26,
     "metadata": {},
     "output_type": "execute_result"
    }
   ],
   "source": [
    "y"
   ]
  },
  {
   "cell_type": "code",
   "execution_count": 28,
   "id": "e78d44fb-26d7-46e6-89c5-ad497a34d257",
   "metadata": {},
   "outputs": [],
   "source": [
    "x=[1,2,3,6.0,\"data\"]\n",
    "y=np.array([1,2,3,6.0 ,\"data\"])"
   ]
  },
  {
   "cell_type": "code",
   "execution_count": 29,
   "id": "d7fbb462-7dfb-41e6-bab7-e858f86c15f4",
   "metadata": {},
   "outputs": [
    {
     "data": {
      "text/plain": [
       "[1, 2, 3, 6.0, 'data']"
      ]
     },
     "execution_count": 29,
     "metadata": {},
     "output_type": "execute_result"
    }
   ],
   "source": [
    "x"
   ]
  },
  {
   "cell_type": "code",
   "execution_count": 30,
   "id": "69c3faaa-8020-40a8-bb1b-9f53e506096f",
   "metadata": {},
   "outputs": [
    {
     "data": {
      "text/plain": [
       "array(['1', '2', '3', '6.0', 'data'], dtype='<U32')"
      ]
     },
     "execution_count": 30,
     "metadata": {},
     "output_type": "execute_result"
    }
   ],
   "source": [
    "y"
   ]
  },
  {
   "cell_type": "code",
   "execution_count": 31,
   "id": "3c699851-0a46-4af4-b05b-0721f3c8e781",
   "metadata": {},
   "outputs": [],
   "source": [
    "###Random family functions"
   ]
  },
  {
   "cell_type": "code",
   "execution_count": 33,
   "id": "5498a6ad-0023-4850-b3bd-f9de5b8864c1",
   "metadata": {},
   "outputs": [
    {
     "data": {
      "text/plain": [
       "array([[11, 97, 69,  5, 48, 86,  8, 76, 73, 23],\n",
       "       [72, 97, 17, 57, 78, 87, 75, 42, 86, 88],\n",
       "       [84, 81, 26, 96, 61, 26, 63, 98, 60, 86],\n",
       "       [ 6, 19, 17, 86, 87, 86, 45,  2, 47, 32],\n",
       "       [59, 97, 99, 15, 49,  1, 73, 50, 20, 42]], dtype=int32)"
      ]
     },
     "execution_count": 33,
     "metadata": {},
     "output_type": "execute_result"
    }
   ],
   "source": [
    "np.random.randint(0,100,(5,10))"
   ]
  },
  {
   "cell_type": "code",
   "execution_count": 35,
   "id": "6855aaf8-ebed-417a-a5fb-e8db5711b035",
   "metadata": {},
   "outputs": [
    {
     "data": {
      "text/plain": [
       "array([[0.196496  , 0.0994739 , 0.68344157],\n",
       "       [0.5230426 , 0.32821495, 0.93716854],\n",
       "       [0.5491861 , 0.48991005, 0.57469471]])"
      ]
     },
     "execution_count": 35,
     "metadata": {},
     "output_type": "execute_result"
    }
   ],
   "source": [
    "np.random.rand(3,3)"
   ]
  },
  {
   "cell_type": "code",
   "execution_count": 37,
   "id": "22f5fe07-5eaa-4ad0-9072-3df6c8cd7f0e",
   "metadata": {},
   "outputs": [
    {
     "data": {
      "text/plain": [
       "array([0.        , 0.33333333, 0.66666667, 1.        ])"
      ]
     },
     "execution_count": 37,
     "metadata": {},
     "output_type": "execute_result"
    }
   ],
   "source": [
    "data = np.array([1,2,3,4])\n",
    "(data-data.min())/(data.max()-data.min())"
   ]
  },
  {
   "cell_type": "code",
   "execution_count": 38,
   "id": "c16ca3bc-4f94-4f7a-b920-f927ceb3b9df",
   "metadata": {},
   "outputs": [
    {
     "data": {
      "text/plain": [
       "array([0.        , 0.33333333, 0.66666667, 1.        ])"
      ]
     },
     "execution_count": 38,
     "metadata": {},
     "output_type": "execute_result"
    }
   ],
   "source": [
    "(data-data.min())/(data.max()-data.min())"
   ]
  },
  {
   "cell_type": "code",
   "execution_count": null,
   "id": "174f16e4-5a49-4d7e-8513-ec0e8cf09eca",
   "metadata": {},
   "outputs": [],
   "source": []
  }
 ],
 "metadata": {
  "kernelspec": {
   "display_name": "Python 3 (ipykernel)",
   "language": "python",
   "name": "python3"
  },
  "language_info": {
   "codemirror_mode": {
    "name": "ipython",
    "version": 3
   },
   "file_extension": ".py",
   "mimetype": "text/x-python",
   "name": "python",
   "nbconvert_exporter": "python",
   "pygments_lexer": "ipython3",
   "version": "3.13.5"
  }
 },
 "nbformat": 4,
 "nbformat_minor": 5
}
