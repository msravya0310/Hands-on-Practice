{
 "cells": [
  {
   "cell_type": "code",
   "execution_count": 1,
   "id": "0171d7c1-94fd-402f-90d8-241e21a13c19",
   "metadata": {},
   "outputs": [
    {
     "name": "stdout",
     "output_type": "stream",
     "text": [
      "the value of x is 1 1\n",
      "the value of x is 2 4\n",
      "the value of x is 3 9\n",
      "the value of x is 4 16\n",
      "the value of x is 5 25\n"
     ]
    }
   ],
   "source": [
    "x= 1\n",
    "while x <= 5:\n",
    "    print(\"the value of x is\",x,x**2)\n",
    "    x=x+1"
   ]
  },
  {
   "cell_type": "code",
   "execution_count": 2,
   "id": "d6449319-0203-41a7-b4b0-c6f3e9eed670",
   "metadata": {},
   "outputs": [
    {
     "name": "stdout",
     "output_type": "stream",
     "text": [
      "test\n",
      "test\n",
      "test\n",
      "test\n"
     ]
    }
   ],
   "source": [
    "x=1\n",
    "while x<5:\n",
    "    print(\"test\")\n",
    "    x=x+1"
   ]
  },
  {
   "cell_type": "code",
   "execution_count": 3,
   "id": "1dd4ce23-fb9f-4daa-af80-33039b78d58b",
   "metadata": {},
   "outputs": [
    {
     "name": "stdout",
     "output_type": "stream",
     "text": [
      "the value 2,20 of x is 2\n",
      "the value 3,20 of x is 3\n",
      "the value 4,20 of x is 4\n",
      "the value 5,20 of x is 5\n",
      "the value 6,20 of x is 6\n"
     ]
    }
   ],
   "source": [
    "x=1\n",
    "y=20\n",
    "while x<=5:\n",
    "    x=x+1\n",
    "    print(f\"the value {x},{y} of x is\",x)"
   ]
  },
  {
   "cell_type": "code",
   "execution_count": 4,
   "id": "260d29de-f270-4a33-9ed7-e346d2c831be",
   "metadata": {},
   "outputs": [
    {
     "name": "stdout",
     "output_type": "stream",
     "text": [
      "[1]\n",
      "[1, 3]\n",
      "[1, 3, 5]\n",
      "[1, 3, 5, 7]\n",
      "[1, 3, 5, 7, 9]\n"
     ]
    }
   ],
   "source": [
    "x=1\n",
    "y=[]\n",
    "while x<10:\n",
    "    y.append(x)\n",
    "    x=x+2\n",
    "    print(y)"
   ]
  },
  {
   "cell_type": "code",
   "execution_count": 5,
   "id": "8b1ce10c-84a2-4595-ba13-af9bd02eec59",
   "metadata": {},
   "outputs": [
    {
     "name": "stdout",
     "output_type": "stream",
     "text": [
      "d\n",
      "da\n",
      "dat\n",
      "data\n"
     ]
    }
   ],
   "source": [
    "x=\"data\"\n",
    "print(x[0:1])\n",
    "print(x[0:2])\n",
    "print(x[0:3])\n",
    "print(x[0:4])"
   ]
  },
  {
   "cell_type": "code",
   "execution_count": 6,
   "id": "2e612558-b2cf-47b5-97a6-9516975f1072",
   "metadata": {},
   "outputs": [
    {
     "name": "stdout",
     "output_type": "stream",
     "text": [
      "d\n",
      "da\n",
      "dat\n",
      "data\n"
     ]
    }
   ],
   "source": [
    "x=\"data\"\n",
    "var=1\n",
    "while var<5:\n",
    "    print(x[0:var])\n",
    "    var=var+1"
   ]
  },
  {
   "cell_type": "raw",
   "id": "32c52937-c8d7-421b-9655-a2cc5d1b1827",
   "metadata": {},
   "source": [
    "*****\n",
    "****\n",
    "***\n",
    "**\n",
    "*"
   ]
  },
  {
   "cell_type": "code",
   "execution_count": 7,
   "id": "7d8550b0-4633-475e-ad27-f42444744564",
   "metadata": {},
   "outputs": [
    {
     "name": "stdout",
     "output_type": "stream",
     "text": [
      "******\n",
      "*****\n",
      "****\n",
      "***\n",
      "**\n",
      "*\n"
     ]
    }
   ],
   "source": [
    "x=5\n",
    "var=6\n",
    "while var>0:\n",
    "    print(var*\"*\")\n",
    "    var=var-1"
   ]
  },
  {
   "cell_type": "code",
   "execution_count": 12,
   "id": "20f23e51-158f-42f3-9416-2b186248a697",
   "metadata": {},
   "outputs": [
    {
     "name": "stdout",
     "output_type": "stream",
     "text": [
      "3262 211\n"
     ]
    }
   ],
   "source": [
    "x=[11,22,3,2244,45,61,72,822,91,102]\n",
    "#while loop add all odd numbers/add all even number\n",
    "var=0\n",
    "even_sum=0\n",
    "odd_sum=0\n",
    "while var<10:\n",
    "    if x[var]%2==0:\n",
    "        even_sum = even_sum+x[var]\n",
    "    else:\n",
    "        odd_sum = odd_sum+x[var]\n",
    "    var = var+1\n",
    "print(even_sum,odd_sum)"
   ]
  },
  {
   "cell_type": "raw",
   "id": "6495d550-c3bf-4798-a56a-f9f0ac0ba464",
   "metadata": {},
   "source": [
    "Break\n",
    "Continue"
   ]
  },
  {
   "cell_type": "code",
   "execution_count": 11,
   "id": "432dfd66-8315-4c94-93cc-25635aab5713",
   "metadata": {},
   "outputs": [
    {
     "name": "stdout",
     "output_type": "stream",
     "text": [
      "0\n",
      "1\n",
      "2\n",
      "3\n",
      "4\n",
      "5\n"
     ]
    }
   ],
   "source": [
    "for i in range(0,10):\n",
    "    print(i)\n",
    "    if i==5:\n",
    "        break"
   ]
  },
  {
   "cell_type": "code",
   "execution_count": 15,
   "id": "453190b0-a645-4251-8894-c06cee67887b",
   "metadata": {},
   "outputs": [
    {
     "name": "stdout",
     "output_type": "stream",
     "text": [
      "0,1,2,3,4,6,7,8,9,"
     ]
    }
   ],
   "source": [
    "for i in range(0,10):\n",
    "    if i==5:\n",
    "        continue\n",
    "    print(i,end=',')"
   ]
  },
  {
   "cell_type": "code",
   "execution_count": 20,
   "id": "de5476c7-345a-4120-9ec5-f7b87612ab19",
   "metadata": {},
   "outputs": [
    {
     "name": "stdout",
     "output_type": "stream",
     "text": [
      "0 0,0 1,1 0,1 1,2 0,2 1,3 0,3 1,4 0,4 1,"
     ]
    }
   ],
   "source": [
    "for i in range(0,5):\n",
    "    for j in range(0,5):\n",
    "        if j==2:\n",
    "            break\n",
    "        print(i,j,end=',')"
   ]
  },
  {
   "cell_type": "code",
   "execution_count": 19,
   "id": "0eb95ac4-35ef-44cc-91b3-97ee4326487f",
   "metadata": {},
   "outputs": [
    {
     "name": "stdout",
     "output_type": "stream",
     "text": [
      "0 0\n",
      "0 1\n",
      "0 3\n",
      "0 4\n",
      "1 0\n",
      "1 1\n",
      "1 3\n",
      "1 4\n",
      "2 0\n",
      "2 1\n",
      "2 3\n",
      "2 4\n",
      "3 0\n",
      "3 1\n",
      "3 3\n",
      "3 4\n",
      "4 0\n",
      "4 1\n",
      "4 3\n",
      "4 4\n"
     ]
    }
   ],
   "source": [
    "for i in range(0,5):\n",
    "    for j in range(0,5):\n",
    "        if j==2:\n",
    "            continue\n",
    "        print(i,j)"
   ]
  },
  {
   "cell_type": "code",
   "execution_count": 28,
   "id": "a62ab0b8-bd6a-429f-8b2a-e49a889727e4",
   "metadata": {},
   "outputs": [
    {
     "name": "stdout",
     "output_type": "stream",
     "text": [
      "['d', 'd'],['d', 'a'],['a', 'd'],['a', 'a'],['t', 'd'],['t', 'a'],['a', 'd'],['a', 'a'],[' ', 'd'],[' ', 'a'],['s', 'd'],['s', 'a'],['c', 'd'],['c', 'a'],['i', 'd'],['i', 'a'],['e', 'd'],['e', 'a'],['n', 'd'],['n', 'a'],['c', 'd'],['c', 'a'],['e', 'd'],['e', 'a'],"
     ]
    }
   ],
   "source": [
    "for i in \"data science\":\n",
    "    for j in \"data\":\n",
    "        if j==\"t\":\n",
    "            break\n",
    "        print([i,j],end=',')"
   ]
  },
  {
   "cell_type": "code",
   "execution_count": 29,
   "id": "3072c64f-16f5-47b7-810b-d12690809619",
   "metadata": {},
   "outputs": [
    {
     "name": "stdout",
     "output_type": "stream",
     "text": [
      "['d', 'd'],['d', 'a'],['d', 'a'],['a', 'd'],['a', 'a'],['a', 'a'],['t', 'd'],['t', 'a'],['t', 'a'],['a', 'd'],['a', 'a'],['a', 'a'],[' ', 'd'],[' ', 'a'],[' ', 'a'],['s', 'd'],['s', 'a'],['s', 'a'],['c', 'd'],['c', 'a'],['c', 'a'],['i', 'd'],['i', 'a'],['i', 'a'],['e', 'd'],['e', 'a'],['e', 'a'],['n', 'd'],['n', 'a'],['n', 'a'],['c', 'd'],['c', 'a'],['c', 'a'],['e', 'd'],['e', 'a'],['e', 'a'],"
     ]
    }
   ],
   "source": [
    "for i in \"data science\":\n",
    "    for j in \"data\":\n",
    "        if j==\"t\":\n",
    "            continue\n",
    "        print([i,j],end=',')"
   ]
  },
  {
   "cell_type": "code",
   "execution_count": 39,
   "id": "056cd7d2-ace8-4f27-ae5c-c62a3be9daf1",
   "metadata": {},
   "outputs": [
    {
     "name": "stdout",
     "output_type": "stream",
     "text": [
      "1 0\n",
      "1 5\n",
      "1 10\n",
      "1 15\n",
      "3 0\n",
      "3 5\n",
      "3 10\n",
      "3 15\n",
      "5 0\n",
      "5 5\n",
      "5 10\n",
      "5 15\n",
      "7 0\n",
      "7 5\n",
      "7 10\n",
      "7 15\n",
      "9 0\n",
      "9 5\n",
      "9 10\n",
      "9 15\n"
     ]
    }
   ],
   "source": [
    "x=10\n",
    "\n",
    "for i in range(0,10):\n",
    "    for j in range(0,20,5):\n",
    "        if i%2 == 0:\n",
    "            break\n",
    "        print(i,j,)"
   ]
  },
  {
   "cell_type": "code",
   "execution_count": 41,
   "id": "e7487c09-3bd9-4c3d-8be2-8f8545124cc4",
   "metadata": {},
   "outputs": [
    {
     "name": "stdout",
     "output_type": "stream",
     "text": [
      "[1, 0],[1, 5],[1, 10],[1, 15],[3, 0],[3, 5],[3, 10],[3, 15],[5, 0],[5, 5],[5, 10],[5, 15],[7, 0],[7, 5],[7, 10],[7, 15],[9, 0],[9, 5],[9, 10],[9, 15],"
     ]
    }
   ],
   "source": [
    "x=10\n",
    "\n",
    "for i in range(0,10):\n",
    "    for j in range(0,20,5):\n",
    "        if i%2 == 0:\n",
    "            continue\n",
    "        print([i,j],end=\",\")"
   ]
  },
  {
   "cell_type": "code",
   "execution_count": 45,
   "id": "a2ba5432-0463-4c95-aa15-3d9d082a81e4",
   "metadata": {},
   "outputs": [
    {
     "name": "stdout",
     "output_type": "stream",
     "text": [
      "[0, 0],[1, 0],[1, 10],[1, 20],[2, 0],[3, 0],[3, 10],[3, 20],[4, 0],[5, 0],[5, 10],[5, 20],[6, 0],[7, 0],[7, 10],[7, 20],[8, 0],[9, 0],[9, 10],[9, 20],"
     ]
    }
   ],
   "source": [
    "for i in range(0,10):\n",
    "    for j in range(0,21,10):\n",
    "        print([i,j],end=\",\")\n",
    "        if i%2==0:\n",
    "               break"
   ]
  },
  {
   "cell_type": "code",
   "execution_count": 49,
   "id": "42e71326-adab-481f-9eda-2558e21e995b",
   "metadata": {},
   "outputs": [
    {
     "name": "stdout",
     "output_type": "stream",
     "text": [
      "[0, 0],[0, 4],[0, 8],[0, 12],[0, 16],[0, 20],[1, 0],[1, 4],[1, 8],[1, 12],[1, 16],[1, 20],[2, 0],[2, 4],[2, 8],[2, 12],[2, 16],[2, 20],[3, 0],[3, 4],[3, 8],[3, 12],[3, 16],[3, 20],[4, 0],[4, 4],[4, 8],[4, 12],[4, 16],[4, 20],[5, 0],[5, 4],[5, 8],[5, 12],[5, 16],[5, 20],[6, 0],[6, 4],[6, 8],[6, 12],[6, 16],[6, 20],[7, 0],[7, 4],[7, 8],[7, 12],[7, 16],[7, 20],[8, 0],[8, 4],[8, 8],[8, 12],[8, 16],[8, 20],[9, 0],[9, 4],[9, 8],[9, 12],[9, 16],[9, 20],"
     ]
    }
   ],
   "source": [
    "for i in range(0,10):\n",
    "    for j in range(0,21,4):\n",
    "        print([i,j],end=\",\")\n",
    "        if i%2==0:\n",
    "               continue"
   ]
  },
  {
   "cell_type": "code",
   "execution_count": 48,
   "id": "525b9875-a9cb-4d28-9ad9-30c351536cd3",
   "metadata": {},
   "outputs": [
    {
     "name": "stdout",
     "output_type": "stream",
     "text": [
      "[0, 0],[1, 0],[1, 4],[1, 8],[1, 12],[1, 16],[1, 20],[2, 0],[3, 0],[3, 4],[3, 8],[3, 12],[3, 16],[3, 20],[4, 0],[5, 0],[5, 4],[5, 8],[5, 12],[5, 16],[5, 20],[6, 0],[7, 0],[7, 4],[7, 8],[7, 12],[7, 16],[7, 20],[8, 0],[9, 0],[9, 4],[9, 8],[9, 12],[9, 16],[9, 20],"
     ]
    }
   ],
   "source": [
    "for i in range(0,10):\n",
    "    for j in range(0,21,4):\n",
    "        print([i,j],end=\",\")\n",
    "        if i%2==0:\n",
    "               break"
   ]
  },
  {
   "cell_type": "code",
   "execution_count": null,
   "id": "b216f8b5-84b9-4de3-ad03-40bddccfd0cb",
   "metadata": {},
   "outputs": [],
   "source": []
  }
 ],
 "metadata": {
  "kernelspec": {
   "display_name": "Python 3 (ipykernel)",
   "language": "python",
   "name": "python3"
  },
  "language_info": {
   "codemirror_mode": {
    "name": "ipython",
    "version": 3
   },
   "file_extension": ".py",
   "mimetype": "text/x-python",
   "name": "python",
   "nbconvert_exporter": "python",
   "pygments_lexer": "ipython3",
   "version": "3.13.5"
  }
 },
 "nbformat": 4,
 "nbformat_minor": 5
}
