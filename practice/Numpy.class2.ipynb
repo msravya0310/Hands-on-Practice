{
 "cells": [
  {
   "cell_type": "code",
   "execution_count": 1,
   "id": "2b69a1e7-6caf-452c-9aa1-97f1aeb11506",
   "metadata": {},
   "outputs": [
    {
     "data": {
      "text/plain": [
       "array([[7, 2, 8],\n",
       "       [6, 0, 2],\n",
       "       [4, 0, 8]], dtype=int32)"
      ]
     },
     "execution_count": 1,
     "metadata": {},
     "output_type": "execute_result"
    }
   ],
   "source": [
    "import numpy as np\n",
    "data = np.random.randint(0,10,(3,3))\n",
    "data "
   ]
  },
  {
   "cell_type": "code",
   "execution_count": 2,
   "id": "152a14bf-14b3-448f-9a6d-b83d68241211",
   "metadata": {},
   "outputs": [
    {
     "data": {
      "text/plain": [
       "np.float64(0.16546847518389485)"
      ]
     },
     "execution_count": 2,
     "metadata": {},
     "output_type": "execute_result"
    }
   ],
   "source": [
    "np.random.randn(3,3).mean()"
   ]
  },
  {
   "cell_type": "code",
   "execution_count": 5,
   "id": "dc7b0f56-7284-47fe-8ac1-5428908ec2d2",
   "metadata": {},
   "outputs": [
    {
     "data": {
      "text/plain": [
       "np.float64(0.9867976355667059)"
      ]
     },
     "execution_count": 5,
     "metadata": {},
     "output_type": "execute_result"
    }
   ],
   "source": [
    "np.random.randn(30,30).std()"
   ]
  },
  {
   "cell_type": "raw",
   "id": "c0c439a8-de34-4ee5-b19d-1fd641d7e907",
   "metadata": {},
   "source": [
    "np.mean\n",
    "std\n",
    "var\n",
    "np.median"
   ]
  },
  {
   "cell_type": "code",
   "execution_count": 7,
   "id": "4ededb44-f0bd-4cc8-8773-2022316bb598",
   "metadata": {},
   "outputs": [
    {
     "data": {
      "text/plain": [
       "np.float64(3.0711722135745005)"
      ]
     },
     "execution_count": 7,
     "metadata": {},
     "output_type": "execute_result"
    }
   ],
   "source": [
    "np.std(data)"
   ]
  },
  {
   "cell_type": "code",
   "execution_count": 8,
   "id": "d3dd27fc-95da-485c-9425-f5e2e0fa635a",
   "metadata": {},
   "outputs": [
    {
     "data": {
      "text/plain": [
       "np.float64(4.111111111111111)"
      ]
     },
     "execution_count": 8,
     "metadata": {},
     "output_type": "execute_result"
    }
   ],
   "source": [
    "np.mean(data)"
   ]
  },
  {
   "cell_type": "code",
   "execution_count": 9,
   "id": "667e6f91-0c38-4447-9901-94a337ebc737",
   "metadata": {},
   "outputs": [
    {
     "data": {
      "text/plain": [
       "np.float64(4.0)"
      ]
     },
     "execution_count": 9,
     "metadata": {},
     "output_type": "execute_result"
    }
   ],
   "source": [
    "np.median(data)"
   ]
  },
  {
   "cell_type": "code",
   "execution_count": 10,
   "id": "531cf91d-a2e0-46ee-b359-6b2a8c9fd740",
   "metadata": {},
   "outputs": [
    {
     "data": {
      "text/plain": [
       "np.float64(9.432098765432096)"
      ]
     },
     "execution_count": 10,
     "metadata": {},
     "output_type": "execute_result"
    }
   ],
   "source": [
    "np.var(data)"
   ]
  },
  {
   "cell_type": "code",
   "execution_count": 11,
   "id": "5202e09b-2e76-4ce4-95a3-b124688e5e40",
   "metadata": {},
   "outputs": [
    {
     "data": {
      "text/plain": [
       "array([93, 70, 91, 90, 94,  5, 31, 29, 42, 70], dtype=int32)"
      ]
     },
     "execution_count": 11,
     "metadata": {},
     "output_type": "execute_result"
    }
   ],
   "source": [
    "data = np.random.randint(0,100,10)\n",
    "data"
   ]
  },
  {
   "cell_type": "code",
   "execution_count": 12,
   "id": "bb5af22f-9c56-4f3a-80aa-adaa94486de3",
   "metadata": {},
   "outputs": [
    {
     "data": {
      "text/plain": [
       "np.int32(89)"
      ]
     },
     "execution_count": 12,
     "metadata": {},
     "output_type": "execute_result"
    }
   ],
   "source": [
    "range = data.max()-data.min()\n",
    "range"
   ]
  },
  {
   "cell_type": "code",
   "execution_count": null,
   "id": "b23cfd9a-7580-4aaf-a47f-0cf5cc6a58d9",
   "metadata": {},
   "outputs": [],
   "source": []
  },
  {
   "cell_type": "code",
   "execution_count": null,
   "id": "c861452d-645e-499a-83d1-3d39eec2ce96",
   "metadata": {},
   "outputs": [],
   "source": []
  },
  {
   "cell_type": "code",
   "execution_count": null,
   "id": "25e65dbc-12f2-4470-b3ea-697b401395d1",
   "metadata": {},
   "outputs": [],
   "source": []
  },
  {
   "cell_type": "code",
   "execution_count": 13,
   "id": "918c4d60-61fb-4b64-9f8b-489b4fe8a2ff",
   "metadata": {},
   "outputs": [
    {
     "data": {
      "text/plain": [
       "array([[3, 0, 2],\n",
       "       [2, 1, 0],\n",
       "       [0, 4, 3]], dtype=int32)"
      ]
     },
     "execution_count": 13,
     "metadata": {},
     "output_type": "execute_result"
    }
   ],
   "source": [
    "import numpy  as np\n",
    "data = np.random.randint(0,5,(3,3))\n",
    "data"
   ]
  },
  {
   "cell_type": "code",
   "execution_count": 16,
   "id": "1f5f65f0-9544-47b7-8cde-90822dd2b5c3",
   "metadata": {},
   "outputs": [
    {
     "data": {
      "text/plain": [
       "array([5, 3, 7])"
      ]
     },
     "execution_count": 16,
     "metadata": {},
     "output_type": "execute_result"
    }
   ],
   "source": [
    "data.sum(axis=1)"
   ]
  },
  {
   "cell_type": "code",
   "execution_count": 17,
   "id": "7d209b47-9b29-4ed2-8e49-717391635af1",
   "metadata": {},
   "outputs": [
    {
     "data": {
      "text/plain": [
       "array([5, 5, 5])"
      ]
     },
     "execution_count": 17,
     "metadata": {},
     "output_type": "execute_result"
    }
   ],
   "source": [
    "data.sum(axis=0)"
   ]
  },
  {
   "cell_type": "code",
   "execution_count": 22,
   "id": "65d7bcbd-faca-4da9-8abb-6d21a09e2472",
   "metadata": {},
   "outputs": [
    {
     "data": {
      "text/plain": [
       "array([[6, 7, 3],\n",
       "       [3, 8, 9],\n",
       "       [6, 4, 1]], dtype=int32)"
      ]
     },
     "execution_count": 22,
     "metadata": {},
     "output_type": "execute_result"
    }
   ],
   "source": [
    "np.random.randint(0,10,(3,3))"
   ]
  },
  {
   "cell_type": "code",
   "execution_count": 23,
   "id": "21fc4d8d-8939-4c0f-a3ed-e299bfbf4fd1",
   "metadata": {},
   "outputs": [
    {
     "data": {
      "text/plain": [
       "array([3, 4, 3], dtype=int32)"
      ]
     },
     "execution_count": 23,
     "metadata": {},
     "output_type": "execute_result"
    }
   ],
   "source": [
    "data.max(axis=0)"
   ]
  },
  {
   "cell_type": "code",
   "execution_count": 25,
   "id": "3b694d36-9e39-438a-a68b-6400895acf66",
   "metadata": {},
   "outputs": [
    {
     "data": {
      "text/plain": [
       "array([0, 0, 0], dtype=int32)"
      ]
     },
     "execution_count": 25,
     "metadata": {},
     "output_type": "execute_result"
    }
   ],
   "source": [
    "data.min(axis=1)"
   ]
  },
  {
   "cell_type": "code",
   "execution_count": 26,
   "id": "e65c0e30-69da-493a-aba0-b2943f65e8a6",
   "metadata": {},
   "outputs": [
    {
     "data": {
      "text/plain": [
       "array([[3, 0, 2],\n",
       "       [2, 1, 0],\n",
       "       [0, 4, 3]], dtype=int32)"
      ]
     },
     "execution_count": 26,
     "metadata": {},
     "output_type": "execute_result"
    }
   ],
   "source": [
    "data"
   ]
  },
  {
   "cell_type": "code",
   "execution_count": null,
   "id": "6fadbd8b-fda5-4981-90e2-91047f3d4fdc",
   "metadata": {},
   "outputs": [],
   "source": []
  },
  {
   "cell_type": "code",
   "execution_count": 28,
   "id": "734a9d18-68c1-4f34-87f0-54965ead2904",
   "metadata": {},
   "outputs": [
    {
     "data": {
      "text/plain": [
       "np.int32(3)"
      ]
     },
     "execution_count": 28,
     "metadata": {},
     "output_type": "execute_result"
    }
   ],
   "source": [
    "data[0:2,0:2].max()"
   ]
  },
  {
   "cell_type": "code",
   "execution_count": 30,
   "id": "382a5856-2b55-44b0-b7ed-a8284ac898cb",
   "metadata": {},
   "outputs": [
    {
     "data": {
      "text/plain": [
       "array([1, 0, 6, 5, 7, 0, 5, 7, 9, 6], dtype=int32)"
      ]
     },
     "execution_count": 30,
     "metadata": {},
     "output_type": "execute_result"
    }
   ],
   "source": [
    "data = np.random.randint(0,10,10)\n",
    "data "
   ]
  },
  {
   "cell_type": "code",
   "execution_count": 31,
   "id": "4bd4909a-935b-47c2-b444-32503d1c9b2d",
   "metadata": {},
   "outputs": [
    {
     "data": {
      "text/plain": [
       "np.int32(0)"
      ]
     },
     "execution_count": 31,
     "metadata": {},
     "output_type": "execute_result"
    }
   ],
   "source": [
    "data.min()"
   ]
  },
  {
   "cell_type": "code",
   "execution_count": 32,
   "id": "253be977-3124-479f-a7ec-e14e401f5836",
   "metadata": {},
   "outputs": [
    {
     "data": {
      "text/plain": [
       "np.int64(1)"
      ]
     },
     "execution_count": 32,
     "metadata": {},
     "output_type": "execute_result"
    }
   ],
   "source": [
    "data.argmin()"
   ]
  },
  {
   "cell_type": "code",
   "execution_count": 34,
   "id": "cffb9f5f-28a2-418e-b174-43f6f1ccd2f0",
   "metadata": {},
   "outputs": [
    {
     "data": {
      "text/plain": [
       "array([[69, 21,  5],\n",
       "       [41, 86, 44],\n",
       "       [93, 81, 73]], dtype=int32)"
      ]
     },
     "execution_count": 34,
     "metadata": {},
     "output_type": "execute_result"
    }
   ],
   "source": [
    "data=np.random.randint(0,100,(3,3))\n",
    "data "
   ]
  },
  {
   "cell_type": "code",
   "execution_count": 35,
   "id": "f1c1358a-37fc-4b51-895b-b22c3910b083",
   "metadata": {},
   "outputs": [
    {
     "data": {
      "text/plain": [
       "array([2, 0, 2])"
      ]
     },
     "execution_count": 35,
     "metadata": {},
     "output_type": "execute_result"
    }
   ],
   "source": [
    "data.argmin(axis=1)"
   ]
  },
  {
   "cell_type": "code",
   "execution_count": 36,
   "id": "274c418c-8af5-42a1-8bfc-d302291f744c",
   "metadata": {},
   "outputs": [
    {
     "name": "stdout",
     "output_type": "stream",
     "text": [
      "[[    1 25000   300  1200    10]\n",
      " [    2 32000   450  1500    15]\n",
      " [    3 28000   380  1100     8]\n",
      " [    4 41000   500  1600    20]\n",
      " [    5 35000   420  1400    12]\n",
      " [    6 27000   360  1300     9]\n",
      " [    7 39000   480  1700    18]\n",
      " [    8 30000   400  1250    14]\n",
      " [    9 45000   550  1800    25]\n",
      " [   10 33000   410  1450    11]]\n"
     ]
    }
   ],
   "source": [
    "import numpy as np\n",
    "\n",
    "# Manually created array: [Store ID, Sales, Customers, Inventory, Returns]\n",
    "retail_data = np.array([\n",
    "    [1, 25000, 300, 1200, 10],\n",
    "    [2, 32000, 450, 1500, 15],\n",
    "    [3, 28000, 380, 1100, 8],\n",
    "    [4, 41000, 500, 1600, 20],\n",
    "    [5, 35000, 420, 1400, 12],\n",
    "    [6, 27000, 360, 1300, 9],\n",
    "    [7, 39000, 480, 1700, 18],\n",
    "    [8, 30000, 400, 1250, 14],\n",
    "    [9, 45000, 550, 1800, 25],\n",
    "    [10, 33000, 410, 1450, 11]\n",
    "])\n",
    "\n",
    "print(retail_data)"
   ]
  },
  {
   "cell_type": "raw",
   "id": "98be0e2e-ac33-47e9-aac6-7448fb37610d",
   "metadata": {},
   "source": [
    "[Store ID, Sales, Customers, Inventory, Returns]"
   ]
  },
  {
   "cell_type": "code",
   "execution_count": 39,
   "id": "b2b584ab-63a4-4851-b822-9eec7c51a88e",
   "metadata": {},
   "outputs": [
    {
     "data": {
      "text/plain": [
       "np.int64(335000)"
      ]
     },
     "execution_count": 39,
     "metadata": {},
     "output_type": "execute_result"
    }
   ],
   "source": [
    "retail_data[:,1].sum()"
   ]
  },
  {
   "cell_type": "code",
   "execution_count": 40,
   "id": "c77c9d8a-fcf1-4a4f-ae9b-84633f5bef62",
   "metadata": {},
   "outputs": [
    {
     "data": {
      "text/plain": [
       "np.int64(9)"
      ]
     },
     "execution_count": 40,
     "metadata": {},
     "output_type": "execute_result"
    }
   ],
   "source": [
    "retail_data[:,3].argmax()+1"
   ]
  },
  {
   "cell_type": "raw",
   "id": "b6e3c3b1-9c78-4b11-a163-0a09fd4966a0",
   "metadata": {},
   "source": [
    "sales/customer\n",
    "sales/transaction : basket value\n",
    "sales/units: basket size"
   ]
  },
  {
   "cell_type": "raw",
   "id": "0c600e4b-72d2-4c70-ba1a-a9cc44c71ce5",
   "metadata": {},
   "source": [
    "[Store ID, Sales, Customers, Inventory, Returns]"
   ]
  },
  {
   "cell_type": "code",
   "execution_count": 47,
   "id": "0ef38752-4321-4fd2-a1ef-eaf9bc6a2bf5",
   "metadata": {},
   "outputs": [
    {
     "data": {
      "text/plain": [
       "array([83.33333333, 71.11111111, 73.68421053, 82.        , 83.33333333,\n",
       "       75.        , 81.25      , 75.        , 81.81818182, 80.48780488])"
      ]
     },
     "execution_count": 47,
     "metadata": {},
     "output_type": "execute_result"
    }
   ],
   "source": [
    "(retail_data[:,1]/retail_data[:,2])"
   ]
  },
  {
   "cell_type": "code",
   "execution_count": 45,
   "id": "26b9fd41-a7ec-47be-9b22-5ea6aeb095f6",
   "metadata": {},
   "outputs": [
    {
     "data": {
      "text/plain": [
       "np.int64(1)"
      ]
     },
     "execution_count": 45,
     "metadata": {},
     "output_type": "execute_result"
    }
   ],
   "source": [
    "(retail_data[:,1]/retail_data[:,2]).argmax()+1"
   ]
  },
  {
   "cell_type": "code",
   "execution_count": 46,
   "id": "7e0e8daa-f596-4152-bb28-d41d7cdfe8b8",
   "metadata": {},
   "outputs": [
    {
     "data": {
      "text/plain": [
       "array([[    1, 25000,   300,  1200,    10],\n",
       "       [    2, 32000,   450,  1500,    15],\n",
       "       [    3, 28000,   380,  1100,     8],\n",
       "       [    4, 41000,   500,  1600,    20],\n",
       "       [    5, 35000,   420,  1400,    12],\n",
       "       [    6, 27000,   360,  1300,     9],\n",
       "       [    7, 39000,   480,  1700,    18],\n",
       "       [    8, 30000,   400,  1250,    14],\n",
       "       [    9, 45000,   550,  1800,    25],\n",
       "       [   10, 33000,   410,  1450,    11]])"
      ]
     },
     "execution_count": 46,
     "metadata": {},
     "output_type": "execute_result"
    }
   ],
   "source": [
    "retail_data"
   ]
  },
  {
   "cell_type": "code",
   "execution_count": 50,
   "id": "5bcb1096-894b-4839-95e5-c064da094286",
   "metadata": {},
   "outputs": [],
   "source": [
    "data=np.random.randint(0,10,3)\n",
    "x=20"
   ]
  },
  {
   "cell_type": "code",
   "execution_count": 51,
   "id": "5d43b6c6-a2cd-42cf-b0f9-f2470f2a039d",
   "metadata": {},
   "outputs": [
    {
     "data": {
      "text/plain": [
       "array([23, 25, 22], dtype=int32)"
      ]
     },
     "execution_count": 51,
     "metadata": {},
     "output_type": "execute_result"
    }
   ],
   "source": [
    "data+x"
   ]
  },
  {
   "cell_type": "code",
   "execution_count": 52,
   "id": "4ffb5ed0-e3a7-4c02-9b59-c103b35da827",
   "metadata": {},
   "outputs": [
    {
     "data": {
      "text/plain": [
       "array([3, 5, 2], dtype=int32)"
      ]
     },
     "execution_count": 52,
     "metadata": {},
     "output_type": "execute_result"
    }
   ],
   "source": [
    "data"
   ]
  },
  {
   "cell_type": "code",
   "execution_count": 53,
   "id": "2bd1cbff-edc1-484e-b208-33d138b25ebf",
   "metadata": {},
   "outputs": [
    {
     "data": {
      "text/plain": [
       "array([[13,  9,  9],\n",
       "       [11,  7,  7],\n",
       "       [17, 13, 13]], dtype=int32)"
      ]
     },
     "execution_count": 53,
     "metadata": {},
     "output_type": "execute_result"
    }
   ],
   "source": [
    "x=np.random.randint(0,10,(3,1))\n",
    "y=np.random.randint(0,10,(1,3))\n",
    "x+y"
   ]
  },
  {
   "cell_type": "code",
   "execution_count": 54,
   "id": "dbbf3bae-b5ae-44f0-9b84-8186a5abcec9",
   "metadata": {},
   "outputs": [
    {
     "data": {
      "text/plain": [
       "array([[5],\n",
       "       [3],\n",
       "       [9]], dtype=int32)"
      ]
     },
     "execution_count": 54,
     "metadata": {},
     "output_type": "execute_result"
    }
   ],
   "source": [
    "x"
   ]
  },
  {
   "cell_type": "code",
   "execution_count": 55,
   "id": "46352e92-8fbb-47ed-9356-60f280ae4108",
   "metadata": {},
   "outputs": [
    {
     "data": {
      "text/plain": [
       "array([[8, 4, 4]], dtype=int32)"
      ]
     },
     "execution_count": 55,
     "metadata": {},
     "output_type": "execute_result"
    }
   ],
   "source": [
    "y"
   ]
  },
  {
   "cell_type": "code",
   "execution_count": 56,
   "id": "6b010a40-b5e1-45da-8f87-fe655f68fcd9",
   "metadata": {},
   "outputs": [
    {
     "data": {
      "text/plain": [
       "array([[ 7, 13, 14],\n",
       "       [14,  9, 15],\n",
       "       [12,  6, 17]], dtype=int32)"
      ]
     },
     "execution_count": 56,
     "metadata": {},
     "output_type": "execute_result"
    }
   ],
   "source": [
    "x=np.random.randint(0,10,(3,3))\n",
    "y=np.random.randint(0,10,(1,3))\n",
    "x+y"
   ]
  },
  {
   "cell_type": "code",
   "execution_count": 57,
   "id": "22d9d599-b826-4f6a-8af7-2e62599dc39b",
   "metadata": {},
   "outputs": [
    {
     "data": {
      "text/plain": [
       "array([[1, 7, 5],\n",
       "       [8, 3, 6],\n",
       "       [6, 0, 8]], dtype=int32)"
      ]
     },
     "execution_count": 57,
     "metadata": {},
     "output_type": "execute_result"
    }
   ],
   "source": [
    "x"
   ]
  },
  {
   "cell_type": "code",
   "execution_count": 58,
   "id": "735479e7-b1a6-4592-b44d-52bacb5c0eab",
   "metadata": {},
   "outputs": [
    {
     "data": {
      "text/plain": [
       "array([[6, 6, 9]], dtype=int32)"
      ]
     },
     "execution_count": 58,
     "metadata": {},
     "output_type": "execute_result"
    }
   ],
   "source": [
    "y"
   ]
  },
  {
   "cell_type": "code",
   "execution_count": null,
   "id": "15027090-35b2-4922-bfe2-1c7509369873",
   "metadata": {},
   "outputs": [],
   "source": []
  }
 ],
 "metadata": {
  "kernelspec": {
   "display_name": "Python 3 (ipykernel)",
   "language": "python",
   "name": "python3"
  },
  "language_info": {
   "codemirror_mode": {
    "name": "ipython",
    "version": 3
   },
   "file_extension": ".py",
   "mimetype": "text/x-python",
   "name": "python",
   "nbconvert_exporter": "python",
   "pygments_lexer": "ipython3",
   "version": "3.13.5"
  }
 },
 "nbformat": 4,
 "nbformat_minor": 5
}
