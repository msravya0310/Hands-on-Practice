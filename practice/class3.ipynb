{
 "cells": [
  {
   "cell_type": "code",
   "execution_count": 1,
   "id": "bbff47be-bad2-4e25-bbfe-375a972bf07c",
   "metadata": {},
   "outputs": [
    {
     "data": {
      "text/plain": [
       "list"
      ]
     },
     "execution_count": 1,
     "metadata": {},
     "output_type": "execute_result"
    }
   ],
   "source": [
    "x=[1,2,3,4]\n",
    "type(x)"
   ]
  },
  {
   "cell_type": "code",
   "execution_count": 2,
   "id": "0d6783a5-f4b7-4116-95d3-ec9adc26631b",
   "metadata": {},
   "outputs": [
    {
     "data": {
      "text/plain": [
       "6"
      ]
     },
     "execution_count": 2,
     "metadata": {},
     "output_type": "execute_result"
    }
   ],
   "source": [
    "x=[1,2.6,3,4 ,\"data\", 2+4j]\n",
    "len(x)"
   ]
  },
  {
   "cell_type": "code",
   "execution_count": 4,
   "id": "a6ed00f2-9558-41fe-9acf-37818b77d394",
   "metadata": {},
   "outputs": [
    {
     "data": {
      "text/plain": [
       "(int, float, str)"
      ]
     },
     "execution_count": 4,
     "metadata": {},
     "output_type": "execute_result"
    }
   ],
   "source": [
    "type(x[0]), type(x[1]), type(x[-2])"
   ]
  },
  {
   "cell_type": "code",
   "execution_count": 13,
   "id": "faaa2345-be68-46e5-8ba9-fd13181263c8",
   "metadata": {},
   "outputs": [
    {
     "data": {
      "text/plain": [
       "[22, 2, 3, ['data', 'science', 'machine'], ['learning']]"
      ]
     },
     "execution_count": 13,
     "metadata": {},
     "output_type": "execute_result"
    }
   ],
   "source": [
    "x[0]=22\n",
    "x"
   ]
  },
  {
   "cell_type": "code",
   "execution_count": 15,
   "id": "894479e3-dff8-4153-a15d-e65f38c70378",
   "metadata": {},
   "outputs": [
    {
     "data": {
      "text/plain": [
       "4"
      ]
     },
     "execution_count": 15,
     "metadata": {},
     "output_type": "execute_result"
    }
   ],
   "source": [
    "x=[1,2,3,[1,2,3]]\n",
    "len(x)"
   ]
  },
  {
   "cell_type": "code",
   "execution_count": 16,
   "id": "795b2880-ac51-4c10-87bd-c0ea66fc3df9",
   "metadata": {},
   "outputs": [
    {
     "data": {
      "text/plain": [
       "[1, 2, 3]"
      ]
     },
     "execution_count": 16,
     "metadata": {},
     "output_type": "execute_result"
    }
   ],
   "source": [
    "x=[1,2,3,[1,2,3]]\n",
    "x[3]"
   ]
  },
  {
   "cell_type": "code",
   "execution_count": 10,
   "id": "0f829753-fad7-4d6a-afdd-cdca4be97e5c",
   "metadata": {},
   "outputs": [
    {
     "data": {
      "text/plain": [
       "5"
      ]
     },
     "execution_count": 10,
     "metadata": {},
     "output_type": "execute_result"
    }
   ],
   "source": [
    "x=[1,2,3,[\"data\", \"science\",\"machine\"],[\"learning\"]]\n",
    "len(x)"
   ]
  },
  {
   "cell_type": "code",
   "execution_count": 11,
   "id": "e964d11e-9f55-4427-82fc-0d169ed36542",
   "metadata": {},
   "outputs": [
    {
     "data": {
      "text/plain": [
       "'machine'"
      ]
     },
     "execution_count": 11,
     "metadata": {},
     "output_type": "execute_result"
    }
   ],
   "source": [
    "x=[1,2,3,[\"data\", \"science\",\"machine\"],[\"learning\"]]\n",
    "x[-2][-1]"
   ]
  },
  {
   "cell_type": "code",
   "execution_count": 12,
   "id": "2701a015-6d1c-4dae-945e-1fb4121ed8bb",
   "metadata": {},
   "outputs": [
    {
     "data": {
      "text/plain": [
       "'ne'"
      ]
     },
     "execution_count": 12,
     "metadata": {},
     "output_type": "execute_result"
    }
   ],
   "source": [
    "x[-2][-1][-2:]"
   ]
  },
  {
   "cell_type": "code",
   "execution_count": 25,
   "id": "d0cda98e-250c-4363-9233-2ab115952ea9",
   "metadata": {},
   "outputs": [],
   "source": [
    "x=[1,2,3,[\"data\", \"science\",\"machine\"],[\"learning\"]]"
   ]
  },
  {
   "cell_type": "code",
   "execution_count": null,
   "id": "869ddecc-fdc5-487d-9843-7a7c4528c3b2",
   "metadata": {},
   "outputs": [],
   "source": [
    "find ING"
   ]
  },
  {
   "cell_type": "code",
   "execution_count": 38,
   "id": "efac3a37-e8a1-4ef3-a5d1-9b1164aee1ca",
   "metadata": {},
   "outputs": [
    {
     "data": {
      "text/plain": [
       "'ING'"
      ]
     },
     "execution_count": 38,
     "metadata": {},
     "output_type": "execute_result"
    }
   ],
   "source": [
    "x[4][0][-3:].upper()"
   ]
  },
  {
   "cell_type": "code",
   "execution_count": null,
   "id": "5ceadb70-ba09-4784-8c53-4bf7eaea8c49",
   "metadata": {},
   "outputs": [],
   "source": [
    "ING"
   ]
  },
  {
   "cell_type": "code",
   "execution_count": null,
   "id": "86cc18ae-7495-4fdb-89da-377c4a8d9659",
   "metadata": {},
   "outputs": [],
   "source": []
  },
  {
   "cell_type": "code",
   "execution_count": null,
   "id": "d907484d-ab5d-48a7-82da-6805829af3b9",
   "metadata": {},
   "outputs": [],
   "source": []
  },
  {
   "cell_type": "code",
   "execution_count": 36,
   "id": "09401792-58f2-4d57-b8b2-405b38a5f756",
   "metadata": {},
   "outputs": [],
   "source": [
    "temperature_data = [\n",
    "    [   # Week 1\n",
    "        [\"Monday\",   [24.5, 34.2, 22.1, 36.0]],\n",
    "        [\"Tuesday\",  [25.0, 33.5, 23.0, 35.5]],\n",
    "        [\"Wednesday\",[23.8, 32.0, 21.5, 34.0]],\n",
    "    ],\n",
    "    [   #Week 2\n",
    "        [\"Monday\",   [26.1, 35.0, 24.2, 37.2]],\n",
    "        [\"Tuesday\",  [25.8, 34.5, 23.7, 36.1]],\n",
    "        [\"Wednesday\",[24.8, 33.3, 22.5, 35.7]],\n",
    "    ]\n",
    "    \n",
    "]"
   ]
  },
  {
   "cell_type": "code",
   "execution_count": 39,
   "id": "b89e1dd4-b37d-4835-bcd9-96cd7398d3ef",
   "metadata": {},
   "outputs": [
    {
     "data": {
      "text/plain": [
       "[23.8, 32.0, 21.5, 34.0]"
      ]
     },
     "execution_count": 39,
     "metadata": {},
     "output_type": "execute_result"
    }
   ],
   "source": [
    "temperature_data[0][2][1]"
   ]
  },
  {
   "cell_type": "code",
   "execution_count": 43,
   "id": "98d6491b-d54a-494f-a917-4f990046028f",
   "metadata": {},
   "outputs": [
    {
     "data": {
      "text/plain": [
       "36.1"
      ]
     },
     "execution_count": 43,
     "metadata": {},
     "output_type": "execute_result"
    }
   ],
   "source": [
    "temperature_data[1][1][1][-1]\n"
   ]
  },
  {
   "cell_type": "code",
   "execution_count": 44,
   "id": "1ba5a940-f7d9-4509-a172-8c7f9e66391c",
   "metadata": {},
   "outputs": [
    {
     "data": {
      "text/plain": [
       "36.1"
      ]
     },
     "execution_count": 44,
     "metadata": {},
     "output_type": "execute_result"
    }
   ],
   "source": [
    "temperature_data[-1][-2][-1][-1]"
   ]
  },
  {
   "cell_type": "code",
   "execution_count": 45,
   "id": "967737f4-2b85-41c0-9fb6-3affff5cad6a",
   "metadata": {},
   "outputs": [
    {
     "data": {
      "text/plain": [
       "[1, 2, 3, 'data']"
      ]
     },
     "execution_count": 45,
     "metadata": {},
     "output_type": "execute_result"
    }
   ],
   "source": [
    "x=[1,2,3]\n",
    "x.append(\"data\")\n",
    "x"
   ]
  },
  {
   "cell_type": "code",
   "execution_count": 47,
   "id": "2c8892c4-1ec1-465a-b78c-c5147f68ca43",
   "metadata": {},
   "outputs": [
    {
     "data": {
      "text/plain": [
       "[1, 2, 3, 'd', 'a', 't', 'a']"
      ]
     },
     "execution_count": 47,
     "metadata": {},
     "output_type": "execute_result"
    }
   ],
   "source": [
    "x=[1,2,3]\n",
    "x.extend(\"data\")\n",
    "x"
   ]
  },
  {
   "cell_type": "code",
   "execution_count": 49,
   "id": "40a3f0eb-a1fc-48eb-9e7f-4fad89683f5b",
   "metadata": {},
   "outputs": [
    {
     "data": {
      "text/plain": [
       "[1, 2, 4]"
      ]
     },
     "execution_count": 49,
     "metadata": {},
     "output_type": "execute_result"
    }
   ],
   "source": [
    "x=[1,2,3,4]\n",
    "x.remove(3)\n",
    "x"
   ]
  },
  {
   "cell_type": "code",
   "execution_count": 51,
   "id": "6a55649f-5014-4918-8e05-071c10f291ca",
   "metadata": {},
   "outputs": [
    {
     "data": {
      "text/plain": [
       "[1, 2, 3, 4, 'data science', 5]"
      ]
     },
     "execution_count": 51,
     "metadata": {},
     "output_type": "execute_result"
    }
   ],
   "source": [
    "x=[1,2,3,4,5]\n",
    "x.insert(4,\"data science\")\n",
    "x"
   ]
  },
  {
   "cell_type": "code",
   "execution_count": 52,
   "id": "7e91aa88-fd88-4a24-a41e-a7f3ae3081f4",
   "metadata": {},
   "outputs": [
    {
     "data": {
      "text/plain": [
       "[]"
      ]
     },
     "execution_count": 52,
     "metadata": {},
     "output_type": "execute_result"
    }
   ],
   "source": [
    "x=[1,2,3]\n",
    "x.clear()\n",
    "x"
   ]
  },
  {
   "cell_type": "code",
   "execution_count": 55,
   "id": "793482fd-7fe9-4d6c-8321-19016a22d102",
   "metadata": {},
   "outputs": [
    {
     "data": {
      "text/plain": [
       "[1, 2, 2, 4, 22, 23]"
      ]
     },
     "execution_count": 55,
     "metadata": {},
     "output_type": "execute_result"
    }
   ],
   "source": [
    "x=[1,2,22,23,2,4]\n",
    "x.sort()\n",
    "x"
   ]
  },
  {
   "cell_type": "code",
   "execution_count": 57,
   "id": "fea133d8-5de2-4ac8-8622-e8dadb56ea4f",
   "metadata": {},
   "outputs": [
    {
     "data": {
      "text/plain": [
       "['Abc', 'abe', 'lmn', 'xabc']"
      ]
     },
     "execution_count": 57,
     "metadata": {},
     "output_type": "execute_result"
    }
   ],
   "source": [
    "x=[\"xabc\", \"abe\",\"lmn\",\"Abc\"]\n",
    "x.sort()\n",
    "x"
   ]
  },
  {
   "cell_type": "code",
   "execution_count": 59,
   "id": "96df3435-8cfd-4bf5-92ae-f6d28f726126",
   "metadata": {},
   "outputs": [
    {
     "data": {
      "text/plain": [
       "['xabc', 'lmn', 'abe', 'Abc']"
      ]
     },
     "execution_count": 59,
     "metadata": {},
     "output_type": "execute_result"
    }
   ],
   "source": [
    "x=[\"xabc\", \"abe\",\"lmn\",\"Abc\"]\n",
    "x.sort(reverse=True)\n",
    "x"
   ]
  },
  {
   "cell_type": "code",
   "execution_count": 61,
   "id": "57fd2809-d992-4de6-b466-90120ba07957",
   "metadata": {},
   "outputs": [
    {
     "data": {
      "text/plain": [
       "['data', 4, 3, 2, 1]"
      ]
     },
     "execution_count": 61,
     "metadata": {},
     "output_type": "execute_result"
    }
   ],
   "source": [
    "x=[1,2,3,4,\"data\"]\n",
    "x.reverse()\n",
    "x\n"
   ]
  },
  {
   "cell_type": "code",
   "execution_count": 63,
   "id": "5bffe02f-832a-4d99-858f-47d5a113a5f6",
   "metadata": {},
   "outputs": [
    {
     "name": "stdout",
     "output_type": "stream",
     "text": [
      "[1, 2222, 3, 4]\n",
      "[1, 2222, 3, 4]\n"
     ]
    }
   ],
   "source": [
    "x=[1,2,3,4]\n",
    "y=x\n",
    "y[1]=2222\n",
    "print(y)\n",
    "print(x)"
   ]
  },
  {
   "cell_type": "code",
   "execution_count": 68,
   "id": "faa324ff-c804-4e36-8c7b-8b01f39118d1",
   "metadata": {},
   "outputs": [
    {
     "data": {
      "text/plain": [
       "3"
      ]
     },
     "execution_count": 68,
     "metadata": {},
     "output_type": "execute_result"
    }
   ],
   "source": [
    "x=[1,2,1,2,1,]\n",
    "x.count(1)\n"
   ]
  },
  {
   "cell_type": "code",
   "execution_count": 69,
   "id": "93630abc-ed93-4db7-a45e-dbe74dfebc93",
   "metadata": {},
   "outputs": [
    {
     "data": {
      "text/plain": [
       "2"
      ]
     },
     "execution_count": 69,
     "metadata": {},
     "output_type": "execute_result"
    }
   ],
   "source": [
    "x=[1,2,1,2,1,\"a\",\"d\",\"a\"]\n",
    "x.count(\"a\")"
   ]
  },
  {
   "cell_type": "code",
   "execution_count": 72,
   "id": "50c495a3-9497-42f4-b690-86c81c7f31b7",
   "metadata": {},
   "outputs": [
    {
     "data": {
      "text/plain": [
       "1"
      ]
     },
     "execution_count": 72,
     "metadata": {},
     "output_type": "execute_result"
    }
   ],
   "source": [
    "x=[1,2,1,2,1,\"a\",\"d\",\"a\"]\n",
    "x.pop(0)"
   ]
  },
  {
   "cell_type": "code",
   "execution_count": 80,
   "id": "3deb84db-d87a-4372-9e4a-78efe5a0eb2f",
   "metadata": {},
   "outputs": [
    {
     "data": {
      "text/plain": [
       "[1, 2, 1]"
      ]
     },
     "execution_count": 80,
     "metadata": {},
     "output_type": "execute_result"
    }
   ],
   "source": [
    "\n",
    "x.pop()\n",
    "x"
   ]
  },
  {
   "cell_type": "code",
   "execution_count": 82,
   "id": "2ea699ba-cf84-4ec8-a509-9e75362624ec",
   "metadata": {},
   "outputs": [
    {
     "data": {
      "text/plain": [
       "tuple"
      ]
     },
     "execution_count": 82,
     "metadata": {},
     "output_type": "execute_result"
    }
   ],
   "source": [
    "x=(1,2,3)\n",
    "type(x)"
   ]
  },
  {
   "cell_type": "code",
   "execution_count": 83,
   "id": "b58cbc44-d87b-4ab4-b5e9-d6899347d3c1",
   "metadata": {},
   "outputs": [
    {
     "data": {
      "text/plain": [
       "(str, list, tuple)"
      ]
     },
     "execution_count": 83,
     "metadata": {},
     "output_type": "execute_result"
    }
   ],
   "source": [
    "type(\" \"),type([]),type(())"
   ]
  },
  {
   "cell_type": "code",
   "execution_count": 84,
   "id": "3e85074f-d0a5-4069-907a-a07de247d63a",
   "metadata": {},
   "outputs": [
    {
     "data": {
      "text/plain": [
       "list"
      ]
     },
     "execution_count": 84,
     "metadata": {},
     "output_type": "execute_result"
    }
   ],
   "source": [
    "x=[1,2,3]\n",
    "type(x)"
   ]
  },
  {
   "cell_type": "code",
   "execution_count": 88,
   "id": "559d8699-f1f6-44ad-a3b5-a91433897b8e",
   "metadata": {},
   "outputs": [
    {
     "data": {
      "text/plain": [
       "[22, 2, 3]"
      ]
     },
     "execution_count": 88,
     "metadata": {},
     "output_type": "execute_result"
    }
   ],
   "source": [
    "x=[1,2,3]\n",
    "type(x)\n",
    "x[0]=22\n",
    "x"
   ]
  },
  {
   "cell_type": "code",
   "execution_count": null,
   "id": "7256eb6d-8e6d-44d0-b40b-2dc2b6ff5a08",
   "metadata": {},
   "outputs": [],
   "source": []
  },
  {
   "cell_type": "code",
   "execution_count": null,
   "id": "7b8b3b60-c2a7-4194-bf70-359f6e6d187d",
   "metadata": {},
   "outputs": [],
   "source": []
  }
 ],
 "metadata": {
  "kernelspec": {
   "display_name": "Python 3 (ipykernel)",
   "language": "python",
   "name": "python3"
  },
  "language_info": {
   "codemirror_mode": {
    "name": "ipython",
    "version": 3
   },
   "file_extension": ".py",
   "mimetype": "text/x-python",
   "name": "python",
   "nbconvert_exporter": "python",
   "pygments_lexer": "ipython3",
   "version": "3.13.5"
  }
 },
 "nbformat": 4,
 "nbformat_minor": 5
}
