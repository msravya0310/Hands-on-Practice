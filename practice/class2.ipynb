{
 "cells": [
  {
   "cell_type": "code",
   "execution_count": 1,
   "id": "adeb0104-33a1-429f-b7f6-0f3b944accb3",
   "metadata": {},
   "outputs": [
    {
     "data": {
      "text/plain": [
       "['d', 't', '']"
      ]
     },
     "execution_count": 1,
     "metadata": {},
     "output_type": "execute_result"
    }
   ],
   "source": [
    "x = \"data\"\n",
    "x.split(\"a\")"
   ]
  },
  {
   "cell_type": "code",
   "execution_count": 2,
   "id": "dbef8ad8-c95e-41c5-afe0-d15d1a3c4479",
   "metadata": {},
   "outputs": [
    {
     "data": {
      "text/plain": [
       "2"
      ]
     },
     "execution_count": 2,
     "metadata": {},
     "output_type": "execute_result"
    }
   ],
   "source": [
    "x=\"data science\"\n",
    "x.count(\"a\")"
   ]
  },
  {
   "cell_type": "code",
   "execution_count": 4,
   "id": "4cf88df5-6df2-4cce-95a5-d2e140b308d4",
   "metadata": {},
   "outputs": [
    {
     "data": {
      "text/plain": [
       "1"
      ]
     },
     "execution_count": 4,
     "metadata": {},
     "output_type": "execute_result"
    }
   ],
   "source": [
    "x.count(\" \")"
   ]
  },
  {
   "cell_type": "code",
   "execution_count": 29,
   "id": "32001cc1-4e79-40de-80df-f19a203b68df",
   "metadata": {},
   "outputs": [
    {
     "data": {
      "text/plain": [
       "'machine science'"
      ]
     },
     "execution_count": 29,
     "metadata": {},
     "output_type": "execute_result"
    }
   ],
   "source": [
    "x=\"data science\"\n",
    "x.replace(\"data\",\"machine\")"
   ]
  },
  {
   "cell_type": "markdown",
   "id": "e5db51d6-b66a-4f61-9dac-32965e9f3991",
   "metadata": {},
   "source": [
    "## Indexing"
   ]
  },
  {
   "cell_type": "code",
   "execution_count": 6,
   "id": "57c2222f-8ff9-49d6-8286-14ee9b927e25",
   "metadata": {},
   "outputs": [
    {
     "data": {
      "text/plain": [
       "'dxxxxtxxxx science'"
      ]
     },
     "execution_count": 6,
     "metadata": {},
     "output_type": "execute_result"
    }
   ],
   "source": [
    "+x.replace(\"a\", \"xxxx\")"
   ]
  },
  {
   "cell_type": "code",
   "execution_count": 9,
   "id": "0231a53b-ce48-4886-9a17-4a3d43648995",
   "metadata": {},
   "outputs": [
    {
     "data": {
      "text/plain": [
       "1"
      ]
     },
     "execution_count": 9,
     "metadata": {},
     "output_type": "execute_result"
    }
   ],
   "source": [
    "x=\"data science\"\n",
    "x.index(\"a\")"
   ]
  },
  {
   "cell_type": "code",
   "execution_count": 10,
   "id": "66827b1f-3feb-4fb2-997a-fb38e6bdd8da",
   "metadata": {},
   "outputs": [
    {
     "data": {
      "text/plain": [
       "'a science'"
      ]
     },
     "execution_count": 10,
     "metadata": {},
     "output_type": "execute_result"
    }
   ],
   "source": [
    "x[3:]"
   ]
  },
  {
   "cell_type": "code",
   "execution_count": 13,
   "id": "b2ae3de2-ecf5-4ca7-ae46-65205213672e",
   "metadata": {},
   "outputs": [
    {
     "data": {
      "text/plain": [
       "'nc'"
      ]
     },
     "execution_count": 13,
     "metadata": {},
     "output_type": "execute_result"
    }
   ],
   "source": [
    "x[-3:-1]"
   ]
  },
  {
   "cell_type": "code",
   "execution_count": 15,
   "id": "de2e54f8-9aa9-4fb1-adc7-f0c0372731e4",
   "metadata": {},
   "outputs": [
    {
     "data": {
      "text/plain": [
       "'DAT'"
      ]
     },
     "execution_count": 15,
     "metadata": {},
     "output_type": "execute_result"
    }
   ],
   "source": [
    "x=\"data SCIENce\"\n",
    "x.upper()[0:3]"
   ]
  },
  {
   "cell_type": "code",
   "execution_count": 17,
   "id": "3ce50c72-4170-43a3-8c5b-56c182ead35d",
   "metadata": {},
   "outputs": [
    {
     "data": {
      "text/plain": [
       "'scienCE'"
      ]
     },
     "execution_count": 17,
     "metadata": {},
     "output_type": "execute_result"
    }
   ],
   "source": [
    "x=\"data SCIENce\"\n",
    "x.split()[1].swapcase()"
   ]
  },
  {
   "cell_type": "code",
   "execution_count": 19,
   "id": "2472ef72-8470-4733-a4ec-be12307e1018",
   "metadata": {},
   "outputs": [
    {
     "data": {
      "text/plain": [
       "'scienCE'"
      ]
     },
     "execution_count": 19,
     "metadata": {},
     "output_type": "execute_result"
    }
   ],
   "source": [
    "x[5:].swapcase()"
   ]
  },
  {
   "cell_type": "code",
   "execution_count": 20,
   "id": "57f6e091-f90e-4de8-b4fc-2fd28aacf4fd",
   "metadata": {},
   "outputs": [
    {
     "data": {
      "text/plain": [
       "'scienCE'"
      ]
     },
     "execution_count": 20,
     "metadata": {},
     "output_type": "execute_result"
    }
   ],
   "source": [
    "x[-7:].swapcase()"
   ]
  },
  {
   "cell_type": "code",
   "execution_count": 25,
   "id": "a244b3b7-6fcf-486c-a50f-35969b199d84",
   "metadata": {},
   "outputs": [
    {
     "data": {
      "text/plain": [
       "'data      science'"
      ]
     },
     "execution_count": 25,
     "metadata": {},
     "output_type": "execute_result"
    }
   ],
   "source": [
    "x= 'data \\tscience'\n",
    "x.expandtabs(10)"
   ]
  },
  {
   "cell_type": "code",
   "execution_count": 26,
   "id": "3aa1a746-2a3e-4293-af11-c01c0d568aa3",
   "metadata": {},
   "outputs": [
    {
     "data": {
      "text/plain": [
       "'data                                                                                                science'"
      ]
     },
     "execution_count": 26,
     "metadata": {},
     "output_type": "execute_result"
    }
   ],
   "source": [
    "x= 'data \\tscience'\n",
    "x.expandtabs(100)"
   ]
  },
  {
   "cell_type": "code",
   "execution_count": 27,
   "id": "792ad1f5-fddb-41e0-8b80-dbb6692a772d",
   "metadata": {},
   "outputs": [
    {
     "data": {
      "text/plain": [
       "True"
      ]
     },
     "execution_count": 27,
     "metadata": {},
     "output_type": "execute_result"
    }
   ],
   "source": [
    "x=\" \"\n",
    "x.isspace()"
   ]
  },
  {
   "cell_type": "code",
   "execution_count": 28,
   "id": "489cedee-38cc-4935-92ab-14959d753f70",
   "metadata": {},
   "outputs": [
    {
     "data": {
      "text/plain": [
       "False"
      ]
     },
     "execution_count": 28,
     "metadata": {},
     "output_type": "execute_result"
    }
   ],
   "source": [
    "x=\"  data\"\n",
    "x.isspace()"
   ]
  },
  {
   "cell_type": "code",
   "execution_count": 1,
   "id": "b8d5c386-ff95-4365-8cf7-239cba7ade7c",
   "metadata": {},
   "outputs": [
    {
     "data": {
      "text/plain": [
       "1"
      ]
     },
     "execution_count": 1,
     "metadata": {},
     "output_type": "execute_result"
    }
   ],
   "source": [
    "x=\"machine learning\"\n",
    "x.find(\"a\")"
   ]
  },
  {
   "cell_type": "code",
   "execution_count": 2,
   "id": "8b879c6f-4119-416d-a2c4-768cdad985f3",
   "metadata": {},
   "outputs": [
    {
     "data": {
      "text/plain": [
       "6"
      ]
     },
     "execution_count": 2,
     "metadata": {},
     "output_type": "execute_result"
    }
   ],
   "source": [
    "x.find(\"e\")"
   ]
  },
  {
   "cell_type": "code",
   "execution_count": 3,
   "id": "66d7ab1b-881b-4dc8-ad08-82b27ca1328f",
   "metadata": {},
   "outputs": [
    {
     "data": {
      "text/plain": [
       "9"
      ]
     },
     "execution_count": 3,
     "metadata": {},
     "output_type": "execute_result"
    }
   ],
   "source": [
    "x.find(\"e\",7)"
   ]
  },
  {
   "cell_type": "code",
   "execution_count": 5,
   "id": "c4aaba8e-b236-4313-998f-81966329e456",
   "metadata": {},
   "outputs": [
    {
     "data": {
      "text/plain": [
       "'***data***'"
      ]
     },
     "execution_count": 5,
     "metadata": {},
     "output_type": "execute_result"
    }
   ],
   "source": [
    "x=\"data\"\n",
    "x.center(10,\"*\")"
   ]
  },
  {
   "cell_type": "code",
   "execution_count": 6,
   "id": "cd884fa3-70c4-4b83-89c6-89b108f68448",
   "metadata": {},
   "outputs": [
    {
     "data": {
      "text/plain": [
       "'@@@data@@'"
      ]
     },
     "execution_count": 6,
     "metadata": {},
     "output_type": "execute_result"
    }
   ],
   "source": [
    "x.center(9,\"@\")"
   ]
  },
  {
   "cell_type": "code",
   "execution_count": 8,
   "id": "cf9ad2ec-c86a-403a-85f9-9a0ca1077799",
   "metadata": {},
   "outputs": [
    {
     "data": {
      "text/plain": [
       "'00000data'"
      ]
     },
     "execution_count": 8,
     "metadata": {},
     "output_type": "execute_result"
    }
   ],
   "source": [
    "x=\"data\"\n",
    "x.zfill(9)"
   ]
  },
  {
   "cell_type": "code",
   "execution_count": 15,
   "id": "12ee7644-ec34-4c13-8020-319b641faee5",
   "metadata": {},
   "outputs": [
    {
     "data": {
      "text/plain": [
       "'data '"
      ]
     },
     "execution_count": 15,
     "metadata": {},
     "output_type": "execute_result"
    }
   ],
   "source": [
    "x=\" data \"\n",
    "x.lstrip()"
   ]
  },
  {
   "cell_type": "code",
   "execution_count": 14,
   "id": "532e8b36-bbe8-41b6-ac34-ac7e0790d506",
   "metadata": {},
   "outputs": [
    {
     "data": {
      "text/plain": [
       "' data'"
      ]
     },
     "execution_count": 14,
     "metadata": {},
     "output_type": "execute_result"
    }
   ],
   "source": [
    "x=\" data \"\n",
    "x.rstrip()"
   ]
  },
  {
   "cell_type": "code",
   "execution_count": 16,
   "id": "52680e8a-112a-4313-b706-e63b0157a4ab",
   "metadata": {},
   "outputs": [
    {
     "data": {
      "text/plain": [
       "'data'"
      ]
     },
     "execution_count": 16,
     "metadata": {},
     "output_type": "execute_result"
    }
   ],
   "source": [
    "x=\" data \"\n",
    "x.strip()"
   ]
  },
  {
   "cell_type": "code",
   "execution_count": 21,
   "id": "52a6ce6b-72e6-4fba-a483-a70c45babd8e",
   "metadata": {},
   "outputs": [],
   "source": [
    "x=\"data\""
   ]
  },
  {
   "cell_type": "code",
   "execution_count": 23,
   "id": "b2e5d001-fe6c-4481-b5bc-20ddc8cbd3ab",
   "metadata": {},
   "outputs": [
    {
     "data": {
      "text/plain": [
       "'data      '"
      ]
     },
     "execution_count": 23,
     "metadata": {},
     "output_type": "execute_result"
    }
   ],
   "source": [
    "x.ljust(10)"
   ]
  },
  {
   "cell_type": "code",
   "execution_count": 24,
   "id": "a5ebccbf-3f47-4dd4-a610-417b97a28982",
   "metadata": {},
   "outputs": [
    {
     "data": {
      "text/plain": [
       "'      data'"
      ]
     },
     "execution_count": 24,
     "metadata": {},
     "output_type": "execute_result"
    }
   ],
   "source": [
    "x.rjust(10)\n"
   ]
  },
  {
   "cell_type": "code",
   "execution_count": 26,
   "id": "da874bfe-8a66-4900-97ff-6e5891ea4a6a",
   "metadata": {},
   "outputs": [
    {
     "data": {
      "text/plain": [
       "'data******'"
      ]
     },
     "execution_count": 26,
     "metadata": {},
     "output_type": "execute_result"
    }
   ],
   "source": [
    "x.ljust(10,\"*\")"
   ]
  },
  {
   "cell_type": "code",
   "execution_count": 27,
   "id": "55543754-0939-4993-ad2f-d767a658be44",
   "metadata": {},
   "outputs": [
    {
     "data": {
      "text/plain": [
       "'*****data'"
      ]
     },
     "execution_count": 27,
     "metadata": {},
     "output_type": "execute_result"
    }
   ],
   "source": [
    "x.rjust(9,\"*\")"
   ]
  },
  {
   "cell_type": "code",
   "execution_count": null,
   "id": "f9b8f2b7-ad90-485c-812f-864c7713a8e1",
   "metadata": {},
   "outputs": [],
   "source": []
  },
  {
   "cell_type": "code",
   "execution_count": null,
   "id": "4ee65a0b-b74c-4d15-8d9a-46cf61aedf67",
   "metadata": {},
   "outputs": [],
   "source": []
  },
  {
   "cell_type": "code",
   "execution_count": null,
   "id": "407d5ff6-5bbb-4855-9872-009b92ec8252",
   "metadata": {},
   "outputs": [],
   "source": []
  },
  {
   "cell_type": "code",
   "execution_count": null,
   "id": "a3dcf168-3efa-4413-aee9-16f531ece4ae",
   "metadata": {},
   "outputs": [],
   "source": []
  },
  {
   "cell_type": "code",
   "execution_count": null,
   "id": "a477d88b-03f9-44df-83a2-a48613c428d1",
   "metadata": {},
   "outputs": [],
   "source": []
  },
  {
   "cell_type": "code",
   "execution_count": null,
   "id": "2daf70da-aba3-476e-aa4d-a7e8b36b1188",
   "metadata": {},
   "outputs": [],
   "source": []
  },
  {
   "cell_type": "code",
   "execution_count": null,
   "id": "23937c4e-4e8a-4e95-8846-9429ee037c76",
   "metadata": {},
   "outputs": [],
   "source": []
  },
  {
   "cell_type": "code",
   "execution_count": null,
   "id": "2395b838-92cd-49bf-bd35-8534c9dcac5b",
   "metadata": {},
   "outputs": [],
   "source": []
  },
  {
   "cell_type": "code",
   "execution_count": null,
   "id": "b4e3a668-bb3d-442f-8381-ba59740a581a",
   "metadata": {},
   "outputs": [],
   "source": []
  }
 ],
 "metadata": {
  "kernelspec": {
   "display_name": "Python 3 (ipykernel)",
   "language": "python",
   "name": "python3"
  },
  "language_info": {
   "codemirror_mode": {
    "name": "ipython",
    "version": 3
   },
   "file_extension": ".py",
   "mimetype": "text/x-python",
   "name": "python",
   "nbconvert_exporter": "python",
   "pygments_lexer": "ipython3",
   "version": "3.13.5"
  }
 },
 "nbformat": 4,
 "nbformat_minor": 5
}
